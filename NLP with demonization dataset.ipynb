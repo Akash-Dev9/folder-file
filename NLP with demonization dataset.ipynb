{
 "cells": [
  {
   "cell_type": "code",
   "execution_count": 1,
   "metadata": {},
   "outputs": [],
   "source": [
    "import pandas as pd\n",
    "import numpy as np\n",
    "import nltk\n",
    "import matplotlib.pyplot as plt\n",
    "import seaborn as sns\n",
    "%matplotlib inline"
   ]
  },
  {
   "cell_type": "code",
   "execution_count": 2,
   "metadata": {},
   "outputs": [
    {
     "data": {
      "text/html": [
       "<div>\n",
       "<style scoped>\n",
       "    .dataframe tbody tr th:only-of-type {\n",
       "        vertical-align: middle;\n",
       "    }\n",
       "\n",
       "    .dataframe tbody tr th {\n",
       "        vertical-align: top;\n",
       "    }\n",
       "\n",
       "    .dataframe thead th {\n",
       "        text-align: right;\n",
       "    }\n",
       "</style>\n",
       "<table border=\"1\" class=\"dataframe\">\n",
       "  <thead>\n",
       "    <tr style=\"text-align: right;\">\n",
       "      <th></th>\n",
       "      <th>text</th>\n",
       "      <th>favorited</th>\n",
       "      <th>favoriteCount</th>\n",
       "      <th>replyToSN</th>\n",
       "      <th>created</th>\n",
       "      <th>truncated</th>\n",
       "      <th>replyToSID</th>\n",
       "      <th>statusSource</th>\n",
       "      <th>screenName</th>\n",
       "      <th>retweetCount</th>\n",
       "      <th>isRetweet</th>\n",
       "      <th>retweeted</th>\n",
       "    </tr>\n",
       "  </thead>\n",
       "  <tbody>\n",
       "    <tr>\n",
       "      <th>0</th>\n",
       "      <td>RT @rssurjewala: Critical question: Was PayTM ...</td>\n",
       "      <td>False</td>\n",
       "      <td>0</td>\n",
       "      <td>NaN</td>\n",
       "      <td>11/23/2016 18:40</td>\n",
       "      <td>False</td>\n",
       "      <td>NaN</td>\n",
       "      <td>&lt;a href=\"http://twitter.com/download/android\" ...</td>\n",
       "      <td>HASHTAGFARZIWAL</td>\n",
       "      <td>331</td>\n",
       "      <td>True</td>\n",
       "      <td>False</td>\n",
       "    </tr>\n",
       "    <tr>\n",
       "      <th>1</th>\n",
       "      <td>RT @roshankar: Former FinSec, RBI Dy Governor,...</td>\n",
       "      <td>False</td>\n",
       "      <td>0</td>\n",
       "      <td>NaN</td>\n",
       "      <td>11/23/2016 18:40</td>\n",
       "      <td>False</td>\n",
       "      <td>NaN</td>\n",
       "      <td>&lt;a href=\"http://twitter.com/download/android\" ...</td>\n",
       "      <td>rahulja13034944</td>\n",
       "      <td>12</td>\n",
       "      <td>True</td>\n",
       "      <td>False</td>\n",
       "    </tr>\n",
       "    <tr>\n",
       "      <th>2</th>\n",
       "      <td>RT @satishacharya: Reddy Wedding! @mail_today ...</td>\n",
       "      <td>False</td>\n",
       "      <td>0</td>\n",
       "      <td>NaN</td>\n",
       "      <td>11/23/2016 18:39</td>\n",
       "      <td>False</td>\n",
       "      <td>NaN</td>\n",
       "      <td>&lt;a href=\"http://cpimharyana.com\" rel=\"nofollow...</td>\n",
       "      <td>CPIMBadli</td>\n",
       "      <td>120</td>\n",
       "      <td>True</td>\n",
       "      <td>False</td>\n",
       "    </tr>\n",
       "    <tr>\n",
       "      <th>3</th>\n",
       "      <td>RT @gauravcsawant: Rs 40 lakh looted from a ba...</td>\n",
       "      <td>False</td>\n",
       "      <td>0</td>\n",
       "      <td>NaN</td>\n",
       "      <td>11/23/2016 18:38</td>\n",
       "      <td>False</td>\n",
       "      <td>NaN</td>\n",
       "      <td>&lt;a href=\"http://twitter.com/download/android\" ...</td>\n",
       "      <td>bhodia1</td>\n",
       "      <td>637</td>\n",
       "      <td>True</td>\n",
       "      <td>False</td>\n",
       "    </tr>\n",
       "    <tr>\n",
       "      <th>4</th>\n",
       "      <td>RT @sumitbhati2002: Many opposition leaders ar...</td>\n",
       "      <td>False</td>\n",
       "      <td>0</td>\n",
       "      <td>NaN</td>\n",
       "      <td>11/23/2016 18:38</td>\n",
       "      <td>False</td>\n",
       "      <td>NaN</td>\n",
       "      <td>&lt;a href=\"http://twitter.com/download/android\" ...</td>\n",
       "      <td>sumitbhati2002</td>\n",
       "      <td>1</td>\n",
       "      <td>True</td>\n",
       "      <td>False</td>\n",
       "    </tr>\n",
       "  </tbody>\n",
       "</table>\n",
       "</div>"
      ],
      "text/plain": [
       "                                                text  favorited  \\\n",
       "0  RT @rssurjewala: Critical question: Was PayTM ...      False   \n",
       "1  RT @roshankar: Former FinSec, RBI Dy Governor,...      False   \n",
       "2  RT @satishacharya: Reddy Wedding! @mail_today ...      False   \n",
       "3  RT @gauravcsawant: Rs 40 lakh looted from a ba...      False   \n",
       "4  RT @sumitbhati2002: Many opposition leaders ar...      False   \n",
       "\n",
       "   favoriteCount replyToSN           created  truncated  replyToSID  \\\n",
       "0              0       NaN  11/23/2016 18:40      False         NaN   \n",
       "1              0       NaN  11/23/2016 18:40      False         NaN   \n",
       "2              0       NaN  11/23/2016 18:39      False         NaN   \n",
       "3              0       NaN  11/23/2016 18:38      False         NaN   \n",
       "4              0       NaN  11/23/2016 18:38      False         NaN   \n",
       "\n",
       "                                        statusSource       screenName  \\\n",
       "0  <a href=\"http://twitter.com/download/android\" ...  HASHTAGFARZIWAL   \n",
       "1  <a href=\"http://twitter.com/download/android\" ...  rahulja13034944   \n",
       "2  <a href=\"http://cpimharyana.com\" rel=\"nofollow...        CPIMBadli   \n",
       "3  <a href=\"http://twitter.com/download/android\" ...          bhodia1   \n",
       "4  <a href=\"http://twitter.com/download/android\" ...   sumitbhati2002   \n",
       "\n",
       "   retweetCount  isRetweet  retweeted  \n",
       "0           331       True      False  \n",
       "1            12       True      False  \n",
       "2           120       True      False  \n",
       "3           637       True      False  \n",
       "4             1       True      False  "
      ]
     },
     "execution_count": 2,
     "metadata": {},
     "output_type": "execute_result"
    }
   ],
   "source": [
    "tweets = pd.read_csv(\"demonetization-tweets_data.csv\",encoding = \"ISO-8859-1\")\n",
    "tweets.head()"
   ]
  },
  {
   "cell_type": "code",
   "execution_count": 3,
   "metadata": {},
   "outputs": [
    {
     "data": {
      "text/plain": [
       "'RT @RNTata2000: The government\\x92s bold implementation of the demonetization programme needs the nation\\x92s support. https://t.co/tx1ZILSor8'"
      ]
     },
     "execution_count": 3,
     "metadata": {},
     "output_type": "execute_result"
    }
   ],
   "source": [
    "tweets.iloc[tweets['retweetCount'].idxmax()]['text'] ##maximum no.of tweets been posted this..."
   ]
  },
  {
   "cell_type": "code",
   "execution_count": 4,
   "metadata": {},
   "outputs": [
    {
     "data": {
      "text/plain": [
       "'@Jaggesh2 Bharat band on 28??<ed><U+00A0><U+00BD><ed><U+00B8><U+0082>Those who  are protesting #demonetization  are all different party leaders.'"
      ]
     },
     "execution_count": 4,
     "metadata": {},
     "output_type": "execute_result"
    }
   ],
   "source": [
    "tweets.iloc[tweets['retweetCount'].idxmin()]['text'] ##minimum no.of tweets been posted this..."
   ]
  },
  {
   "cell_type": "code",
   "execution_count": 5,
   "metadata": {},
   "outputs": [],
   "source": [
    "from nltk.tokenize import word_tokenize\n",
    "from nltk.corpus import stopwords\n",
    "import string,re"
   ]
  },
  {
   "cell_type": "code",
   "execution_count": 11,
   "metadata": {},
   "outputs": [],
   "source": [
    "def clean_text(tweets):\n",
    "    tweets=word_tokenize(tweets)\n",
    "    tweets=tweets[4:]#remove RT@\n",
    "    tweets=\" \".join(tweets)\n",
    "    tweets=re.sub('https','',tweets)\n",
    "    tweets=[char for char in tweets if char not in string.punctuation]\n",
    "    tweets=''.join(tweets)\n",
    "    tweets=[word for word in tweets.split() if word.lower() not in stopwords.words('english')]\n",
    "    return' '.join(tweets)"
   ]
  },
  {
   "cell_type": "code",
   "execution_count": 12,
   "metadata": {},
   "outputs": [],
   "source": [
    "tweets['cleaned_text']=tweets['text'].apply(clean_text)"
   ]
  },
  {
   "cell_type": "code",
   "execution_count": 14,
   "metadata": {},
   "outputs": [
    {
     "data": {
      "text/plain": [
       "0    Critical question PayTM informed Demonetizatio...\n",
       "1    Former FinSec RBI Dy Governor CBDT Chair Harva...\n",
       "2    Reddy Wedding mailtoday cartoon demonetization...\n",
       "3    Rs 40 lakh looted bank Kishtwar J amp K Third ...\n",
       "4    Many opposition leaders narendramodi Demonetiz...\n",
       "Name: cleaned_text, dtype: object"
      ]
     },
     "execution_count": 14,
     "metadata": {},
     "output_type": "execute_result"
    }
   ],
   "source": [
    "tweets['cleaned_text'].head()"
   ]
  },
  {
   "cell_type": "code",
   "execution_count": 15,
   "metadata": {},
   "outputs": [],
   "source": [
    "features=tweets['cleaned_text']\n",
    "processed_features=[]\n",
    "for sentence in range(0,len(features)):\n",
    "    processed_feature=re.sub(r'\\W',\" \",str(features[sentence]))##removing all the special characters\n",
    "    processed_feature=re.sub(r'\\s+[a-zA-Z]\\s+',\" \",processed_feature)##removing single character appearing in the text except first\n",
    "    processed_feature=re.sub(r'\\^[a-zA-Z]\\s+',\" \",processed_feature)##removing single character appearing in the first\n",
    "    processed_feature=re.sub(r'\\s+',\" \",processed_feature,flags=re.I)##removing multiple space with a single space\n",
    "    processed_feature=re.sub(r'^b\\s+',\" \",processed_feature)##removing prefix b\n",
    "    processed_feature=processed_feature.lower()\n",
    "    processed_features.append(processed_feature)"
   ]
  },
  {
   "cell_type": "code",
   "execution_count": 19,
   "metadata": {},
   "outputs": [
    {
     "data": {
      "text/plain": [
       "0    critical question paytm informed demonetizatio...\n",
       "1    former finsec rbi dy governor cbdt chair harva...\n",
       "2    reddy wedding mailtoday cartoon demonetization...\n",
       "3    rs 40 lakh looted bank kishtwar amp third inci...\n",
       "4    many opposition leaders narendramodi demonetiz...\n",
       "Name: processed_text, dtype: object"
      ]
     },
     "execution_count": 19,
     "metadata": {},
     "output_type": "execute_result"
    }
   ],
   "source": [
    "tweets['processed_text']=processed_features\n",
    "tweets['processed_text'].head()"
   ]
  },
  {
   "cell_type": "code",
   "execution_count": 27,
   "metadata": {},
   "outputs": [
    {
     "data": {
      "text/plain": [
       "[('critical question paytm informed demonetization edict pm clearly fishy requires full disclosure amp',\n",
       "  'former finsec rbi dy governor cbdt chair harvard professor lambaste demonetization aam aadmi listen th',\n",
       "  'reddy wedding mailtoday cartoon demonetization reddywedding tcou7glnrq31f',\n",
       "  'rs 40 lakh looted bank kishtwar amp third incident since demonetization terrorists',\n",
       "  'many opposition leaders narendramodi demonetization respect decision support oppositio'),\n",
       " ('former finsec rbi dy governor cbdt chair harvard professor lambaste demonetization aam aadmi listen th',\n",
       "  'reddy wedding mailtoday cartoon demonetization reddywedding tcou7glnrq31f',\n",
       "  'rs 40 lakh looted bank kishtwar amp third incident since demonetization terrorists',\n",
       "  'many opposition leaders narendramodi demonetization respect decision support oppositio',\n",
       "  'narendramodi demonetization respect decision support opposition bcoz party'),\n",
       " ('reddy wedding mailtoday cartoon demonetization reddywedding tcou7glnrq31f',\n",
       "  'rs 40 lakh looted bank kishtwar amp third incident since demonetization terrorists',\n",
       "  'many opposition leaders narendramodi demonetization respect decision support oppositio',\n",
       "  'narendramodi demonetization respect decision support opposition bcoz party',\n",
       "  '28 ed u00a0 u00bd ed u00b8 u0082 protesting demonetization different party leaders')]"
      ]
     },
     "execution_count": 27,
     "metadata": {},
     "output_type": "execute_result"
    }
   ],
   "source": [
    "#applying ngrams\n",
    "ngrams_text=list(nltk.ngrams(tweets['processed_text'],5))\n",
    "ngrams_text[:3]"
   ]
  },
  {
   "cell_type": "code",
   "execution_count": 31,
   "metadata": {},
   "outputs": [
    {
     "data": {
      "text/plain": [
       "0    critic question paytm inform demonet edict pm ...\n",
       "1    former finsec rbi dy governor cbdt chair harva...\n",
       "2    reddi wed mailtoday cartoon demonet reddywed t...\n",
       "3    rs 40 lakh loot bank kishtwar amp third incid ...\n",
       "4    mani opposit leader narendramodi demonet respe...\n",
       "Name: porter_stemer, dtype: object"
      ]
     },
     "execution_count": 31,
     "metadata": {},
     "output_type": "execute_result"
    }
   ],
   "source": [
    "#porterstemmer helps in removing the morphological endings from the word in english\n",
    "from nltk.stem.porter import PorterStemmer\n",
    "def stemmer_get_text(corpus):\n",
    "    stemmer=PorterStemmer()\n",
    "    return[' '.join([stemmer.stem(word) for word in review.split()]) for review in corpus]\n",
    "tweets['porter_stemer']=stemmer_get_text(tweets['processed_text'])\n",
    "tweets['porter_stemer'].head()"
   ]
  },
  {
   "cell_type": "code",
   "execution_count": 37,
   "metadata": {},
   "outputs": [
    {
     "data": {
      "text/plain": [
       "0    crit quest paytm inform demonet edict pm clear...\n",
       "1    form finsec rbi dy govern cbdt chair harvard p...\n",
       "2    reddy wed mailtoday cartoon demonet reddywed t...\n",
       "3    rs 40 lakh loot bank kishtw amp third incid si...\n",
       "4    many opposit lead narendramod demonet respect ...\n",
       "Name: lancaster_stemmer, dtype: object"
      ]
     },
     "execution_count": 37,
     "metadata": {},
     "output_type": "execute_result"
    }
   ],
   "source": [
    "#lancaster stemmer helps in finding the frequency\n",
    "from nltk.stem import LancasterStemmer\n",
    "def stemmer_get_text(corpus):\n",
    "    stemmer=LancasterStemmer()\n",
    "    return[' '.join([stemmer.stem(word) for word in review.split()])for review in corpus]\n",
    "tweets['lancaster_stemmer']=stemmer_get_text(tweets['processed_text'])\n",
    "tweets['lancaster_stemmer'].head()"
   ]
  },
  {
   "cell_type": "code",
   "execution_count": 39,
   "metadata": {},
   "outputs": [
    {
     "data": {
      "text/plain": [
       "0    critic question paytm inform demonet edict pm ...\n",
       "1    former finsec rbi dy governor cbdt chair harva...\n",
       "2    reddi wed mailtoday cartoon demonet reddywed t...\n",
       "3    rs 40 lakh loot bank kishtwar amp third incid ...\n",
       "4    mani opposit leader narendramodi demonet respe...\n",
       "Name: snow_stem, dtype: object"
      ]
     },
     "execution_count": 39,
     "metadata": {},
     "output_type": "execute_result"
    }
   ],
   "source": [
    "#snowball stemmer is similar to porterstemmer but it specify the word english\n",
    "from nltk.stem import SnowballStemmer\n",
    "def stemmer_get_text(corpus):\n",
    "    stemmer=SnowballStemmer('english')\n",
    "    return[' '.join([stemmer.stem(word) for word in review.split()]) for review in corpus]\n",
    "tweets['snow_stem']=stemmer_get_text(tweets['processed_text'])\n",
    "tweets['snow_stem'].head()"
   ]
  },
  {
   "cell_type": "code",
   "execution_count": 42,
   "metadata": {},
   "outputs": [
    {
     "data": {
      "text/plain": [
       "0    critical question paytm informed demonetizatio...\n",
       "1    former finsec rbi dy governor cbdt chair harva...\n",
       "2    reddy wedding mailtoday cartoon demonetization...\n",
       "3    r 40 lakh looted bank kishtwar amp third incid...\n",
       "4    many opposition leader narendramodi demonetiza...\n",
       "Name: lema_text, dtype: object"
      ]
     },
     "execution_count": 42,
     "metadata": {},
     "output_type": "execute_result"
    }
   ],
   "source": [
    "from nltk.stem import WordNetLemmatizer ##it lemmatized word into one common root\n",
    "def stemmer_get_text(corpus):\n",
    "    stemmer=WordNetLemmatizer()\n",
    "    return[' '.join([stemmer.lemmatize(word) for word in review.split()]) for review in corpus]\n",
    "tweets['lema_text']=stemmer_get_text(tweets['processed_text'])\n",
    "tweets['lema_text'].head()"
   ]
  },
  {
   "cell_type": "code",
   "execution_count": 50,
   "metadata": {},
   "outputs": [
    {
     "data": {
      "text/plain": [
       "0    c r i t i c a l   q u e s t i o n   p a y t m ...\n",
       "1    f o r m e r   f i n s e c   r b i   d y   g o ...\n",
       "2    r e d d y   w e d d i n g   m a i l t o d a y ...\n",
       "3    r   4 0   l a k h   l o o t e d   b a n k   k ...\n",
       "4    m a n y   o p p o s i t i o n   l e a d e r   ...\n",
       "Name: lema_str, dtype: object"
      ]
     },
     "execution_count": 50,
     "metadata": {},
     "output_type": "execute_result"
    }
   ],
   "source": [
    "tweets['lema_str']=[' '.join(map(str,l))for l in tweets['lema_text']]\n",
    "tweets['lema_str'].head()"
   ]
  },
  {
   "cell_type": "code",
   "execution_count": 51,
   "metadata": {},
   "outputs": [
    {
     "data": {
      "text/plain": [
       "0    13\n",
       "1    15\n",
       "2     7\n",
       "3    12\n",
       "4     9\n",
       "Name: word_count, dtype: int64"
      ]
     },
     "execution_count": 51,
     "metadata": {},
     "output_type": "execute_result"
    }
   ],
   "source": [
    "tweets['word_count']=tweets['lema_text'].apply(lambda x:len(str(x).split()))\n",
    "tweets['word_count'].head()"
   ]
  },
  {
   "cell_type": "code",
   "execution_count": 52,
   "metadata": {},
   "outputs": [
    {
     "data": {
      "text/plain": [
       "0    197\n",
       "1    203\n",
       "2    145\n",
       "3    159\n",
       "4    169\n",
       "Name: review_len, dtype: int64"
      ]
     },
     "execution_count": 52,
     "metadata": {},
     "output_type": "execute_result"
    }
   ],
   "source": [
    "tweets['review_len']=tweets['lema_str'].astype(str).apply(len)\n",
    "tweets['review_len'].head()"
   ]
  },
  {
   "cell_type": "code",
   "execution_count": 54,
   "metadata": {},
   "outputs": [],
   "source": [
    "from textblob import TextBlob\n",
    "def generate_polarity(text):\n",
    "    sentiment=TextBlob(text).sentiment\n",
    "    return sentiment"
   ]
  },
  {
   "cell_type": "code",
   "execution_count": 57,
   "metadata": {},
   "outputs": [
    {
     "data": {
      "text/html": [
       "<div>\n",
       "<style scoped>\n",
       "    .dataframe tbody tr th:only-of-type {\n",
       "        vertical-align: middle;\n",
       "    }\n",
       "\n",
       "    .dataframe tbody tr th {\n",
       "        vertical-align: top;\n",
       "    }\n",
       "\n",
       "    .dataframe thead th {\n",
       "        text-align: right;\n",
       "    }\n",
       "</style>\n",
       "<table border=\"1\" class=\"dataframe\">\n",
       "  <thead>\n",
       "    <tr style=\"text-align: right;\">\n",
       "      <th></th>\n",
       "      <th>lema_text</th>\n",
       "    </tr>\n",
       "  </thead>\n",
       "  <tbody>\n",
       "    <tr>\n",
       "      <th>0</th>\n",
       "      <td>(0.15, 0.5777777777777778)</td>\n",
       "    </tr>\n",
       "    <tr>\n",
       "      <th>1</th>\n",
       "      <td>(0.0, 0.0)</td>\n",
       "    </tr>\n",
       "    <tr>\n",
       "      <th>2</th>\n",
       "      <td>(0.0, 0.0)</td>\n",
       "    </tr>\n",
       "    <tr>\n",
       "      <th>3</th>\n",
       "      <td>(0.0, 0.0)</td>\n",
       "    </tr>\n",
       "    <tr>\n",
       "      <th>4</th>\n",
       "      <td>(0.5, 0.5)</td>\n",
       "    </tr>\n",
       "  </tbody>\n",
       "</table>\n",
       "</div>"
      ],
      "text/plain": [
       "                    lema_text\n",
       "0  (0.15, 0.5777777777777778)\n",
       "1                  (0.0, 0.0)\n",
       "2                  (0.0, 0.0)\n",
       "3                  (0.0, 0.0)\n",
       "4                  (0.5, 0.5)"
      ]
     },
     "execution_count": 57,
     "metadata": {},
     "output_type": "execute_result"
    }
   ],
   "source": [
    "sentiment=tweets['lema_text'].apply(generate_polarity)\n",
    "sentiment=sentiment.to_frame()\n",
    "sentiment.head()"
   ]
  },
  {
   "cell_type": "code",
   "execution_count": 58,
   "metadata": {},
   "outputs": [],
   "source": [
    "tweets['sentiment score']=sentiment"
   ]
  },
  {
   "cell_type": "code",
   "execution_count": 61,
   "metadata": {},
   "outputs": [
    {
     "data": {
      "text/plain": [
       "0    0.15\n",
       "1    0.00\n",
       "2    0.00\n",
       "3    0.00\n",
       "4    0.50\n",
       "Name: polarity, dtype: float64"
      ]
     },
     "execution_count": 61,
     "metadata": {},
     "output_type": "execute_result"
    }
   ],
   "source": [
    "tweets['polarity']=sentiment['lema_text'].apply(lambda x:x[0])\n",
    "tweets['polarity'].head()"
   ]
  },
  {
   "cell_type": "code",
   "execution_count": 66,
   "metadata": {},
   "outputs": [
    {
     "data": {
      "text/plain": [
       "Text(0, 0.5, 'frequency')"
      ]
     },
     "execution_count": 66,
     "metadata": {},
     "output_type": "execute_result"
    },
    {
     "data": {
      "image/png": "[encoded data removed]",
      "text/plain": [
       "<Figure size 720x1440 with 1 Axes>"
      ]
     },
     "metadata": {
      "needs_background": "light"
     },
     "output_type": "display_data"
    }
   ],
   "source": [
    "plt.figure(figsize=(10,20))\n",
    "plt.margins(0.02)\n",
    "plt.hist(tweets['polarity'])\n",
    "plt.title('polarity distribution',fontsize=10)\n",
    "plt.xlabel('polarity')\n",
    "plt.ylabel('frequency')"
   ]
  },
  {
   "cell_type": "code",
   "execution_count": 67,
   "metadata": {},
   "outputs": [],
   "source": [
    "tweets['encoded polarity']=['positive'if x>0 else 'negative' if x<0 else 'neutral' for x in tweets['polarity']]"
   ]
  },
  {
   "cell_type": "code",
   "execution_count": 70,
   "metadata": {},
   "outputs": [
    {
     "data": {
      "text/plain": [
       "neutral     3767\n",
       "positive    2581\n",
       "negative    1122\n",
       "Name: encoded polarity, dtype: int64"
      ]
     },
     "execution_count": 70,
     "metadata": {},
     "output_type": "execute_result"
    }
   ],
   "source": [
    "tweets['encoded polarity'].value_counts()"
   ]
  },
  {
   "cell_type": "markdown",
   "metadata": {},
   "source": [
    "##conclusion:we can see that demonization has more numbers of tweets which are neutral"
   ]
  },
  {
   "cell_type": "code",
   "execution_count": 72,
   "metadata": {},
   "outputs": [],
   "source": [
    "from sklearn.feature_extraction.text import TfidfVectorizer\n",
    "vectorizer=TfidfVectorizer(lowercase=True,ngram_range=(1,1),stop_words='english')\n",
    "x=tweets['processed_text']\n",
    "y=tweets['encoded polarity']"
   ]
  },
  {
   "cell_type": "code",
   "execution_count": 74,
   "metadata": {},
   "outputs": [
    {
     "data": {
      "text/html": [
       "<div>\n",
       "<style scoped>\n",
       "    .dataframe tbody tr th:only-of-type {\n",
       "        vertical-align: middle;\n",
       "    }\n",
       "\n",
       "    .dataframe tbody tr th {\n",
       "        vertical-align: top;\n",
       "    }\n",
       "\n",
       "    .dataframe thead th {\n",
       "        text-align: right;\n",
       "    }\n",
       "</style>\n",
       "<table border=\"1\" class=\"dataframe\">\n",
       "  <thead>\n",
       "    <tr style=\"text-align: right;\">\n",
       "      <th></th>\n",
       "      <th>00716</th>\n",
       "      <th>01</th>\n",
       "      <th>0276gaubert</th>\n",
       "      <th>04</th>\n",
       "      <th>10</th>\n",
       "      <th>100</th>\n",
       "      <th>1000</th>\n",
       "      <th>10000</th>\n",
       "      <th>1000th</th>\n",
       "      <th>100rs</th>\n",
       "      <th>...</th>\n",
       "      <th>yt</th>\n",
       "      <th>yugayatri</th>\n",
       "      <th>zeenews</th>\n",
       "      <th>zeenewshindi</th>\n",
       "      <th>zerch</th>\n",
       "      <th>zero</th>\n",
       "      <th>zerohedge</th>\n",
       "      <th>zindabad</th>\n",
       "      <th>zomatoin</th>\n",
       "      <th>zone</th>\n",
       "    </tr>\n",
       "  </thead>\n",
       "  <tbody>\n",
       "    <tr>\n",
       "      <th>0</th>\n",
       "      <td>0.0</td>\n",
       "      <td>0.0</td>\n",
       "      <td>0.0</td>\n",
       "      <td>0.0</td>\n",
       "      <td>0.0</td>\n",
       "      <td>0.0</td>\n",
       "      <td>0.0</td>\n",
       "      <td>0.0</td>\n",
       "      <td>0.0</td>\n",
       "      <td>0.0</td>\n",
       "      <td>...</td>\n",
       "      <td>0.0</td>\n",
       "      <td>0.0</td>\n",
       "      <td>0.0</td>\n",
       "      <td>0.0</td>\n",
       "      <td>0.0</td>\n",
       "      <td>0.0</td>\n",
       "      <td>0.0</td>\n",
       "      <td>0.0</td>\n",
       "      <td>0.0</td>\n",
       "      <td>0.0</td>\n",
       "    </tr>\n",
       "    <tr>\n",
       "      <th>1</th>\n",
       "      <td>0.0</td>\n",
       "      <td>0.0</td>\n",
       "      <td>0.0</td>\n",
       "      <td>0.0</td>\n",
       "      <td>0.0</td>\n",
       "      <td>0.0</td>\n",
       "      <td>0.0</td>\n",
       "      <td>0.0</td>\n",
       "      <td>0.0</td>\n",
       "      <td>0.0</td>\n",
       "      <td>...</td>\n",
       "      <td>0.0</td>\n",
       "      <td>0.0</td>\n",
       "      <td>0.0</td>\n",
       "      <td>0.0</td>\n",
       "      <td>0.0</td>\n",
       "      <td>0.0</td>\n",
       "      <td>0.0</td>\n",
       "      <td>0.0</td>\n",
       "      <td>0.0</td>\n",
       "      <td>0.0</td>\n",
       "    </tr>\n",
       "    <tr>\n",
       "      <th>2</th>\n",
       "      <td>0.0</td>\n",
       "      <td>0.0</td>\n",
       "      <td>0.0</td>\n",
       "      <td>0.0</td>\n",
       "      <td>0.0</td>\n",
       "      <td>0.0</td>\n",
       "      <td>0.0</td>\n",
       "      <td>0.0</td>\n",
       "      <td>0.0</td>\n",
       "      <td>0.0</td>\n",
       "      <td>...</td>\n",
       "      <td>0.0</td>\n",
       "      <td>0.0</td>\n",
       "      <td>0.0</td>\n",
       "      <td>0.0</td>\n",
       "      <td>0.0</td>\n",
       "      <td>0.0</td>\n",
       "      <td>0.0</td>\n",
       "      <td>0.0</td>\n",
       "      <td>0.0</td>\n",
       "      <td>0.0</td>\n",
       "    </tr>\n",
       "    <tr>\n",
       "      <th>3</th>\n",
       "      <td>0.0</td>\n",
       "      <td>0.0</td>\n",
       "      <td>0.0</td>\n",
       "      <td>0.0</td>\n",
       "      <td>0.0</td>\n",
       "      <td>0.0</td>\n",
       "      <td>0.0</td>\n",
       "      <td>0.0</td>\n",
       "      <td>0.0</td>\n",
       "      <td>0.0</td>\n",
       "      <td>...</td>\n",
       "      <td>0.0</td>\n",
       "      <td>0.0</td>\n",
       "      <td>0.0</td>\n",
       "      <td>0.0</td>\n",
       "      <td>0.0</td>\n",
       "      <td>0.0</td>\n",
       "      <td>0.0</td>\n",
       "      <td>0.0</td>\n",
       "      <td>0.0</td>\n",
       "      <td>0.0</td>\n",
       "    </tr>\n",
       "    <tr>\n",
       "      <th>4</th>\n",
       "      <td>0.0</td>\n",
       "      <td>0.0</td>\n",
       "      <td>0.0</td>\n",
       "      <td>0.0</td>\n",
       "      <td>0.0</td>\n",
       "      <td>0.0</td>\n",
       "      <td>0.0</td>\n",
       "      <td>0.0</td>\n",
       "      <td>0.0</td>\n",
       "      <td>0.0</td>\n",
       "      <td>...</td>\n",
       "      <td>0.0</td>\n",
       "      <td>0.0</td>\n",
       "      <td>0.0</td>\n",
       "      <td>0.0</td>\n",
       "      <td>0.0</td>\n",
       "      <td>0.0</td>\n",
       "      <td>0.0</td>\n",
       "      <td>0.0</td>\n",
       "      <td>0.0</td>\n",
       "      <td>0.0</td>\n",
       "    </tr>\n",
       "  </tbody>\n",
       "</table>\n",
       "<p>5 rows × 8081 columns</p>\n",
       "</div>"
      ],
      "text/plain": [
       "   00716   01  0276gaubert   04   10  100  1000  10000  1000th  100rs  ...  \\\n",
       "0    0.0  0.0          0.0  0.0  0.0  0.0   0.0    0.0     0.0    0.0  ...   \n",
       "1    0.0  0.0          0.0  0.0  0.0  0.0   0.0    0.0     0.0    0.0  ...   \n",
       "2    0.0  0.0          0.0  0.0  0.0  0.0   0.0    0.0     0.0    0.0  ...   \n",
       "3    0.0  0.0          0.0  0.0  0.0  0.0   0.0    0.0     0.0    0.0  ...   \n",
       "4    0.0  0.0          0.0  0.0  0.0  0.0   0.0    0.0     0.0    0.0  ...   \n",
       "\n",
       "    yt  yugayatri  zeenews  zeenewshindi  zerch  zero  zerohedge  zindabad  \\\n",
       "0  0.0        0.0      0.0           0.0    0.0   0.0        0.0       0.0   \n",
       "1  0.0        0.0      0.0           0.0    0.0   0.0        0.0       0.0   \n",
       "2  0.0        0.0      0.0           0.0    0.0   0.0        0.0       0.0   \n",
       "3  0.0        0.0      0.0           0.0    0.0   0.0        0.0       0.0   \n",
       "4  0.0        0.0      0.0           0.0    0.0   0.0        0.0       0.0   \n",
       "\n",
       "   zomatoin  zone  \n",
       "0       0.0   0.0  \n",
       "1       0.0   0.0  \n",
       "2       0.0   0.0  \n",
       "3       0.0   0.0  \n",
       "4       0.0   0.0  \n",
       "\n",
       "[5 rows x 8081 columns]"
      ]
     },
     "execution_count": 74,
     "metadata": {},
     "output_type": "execute_result"
    }
   ],
   "source": [
    "x_vect=vectorizer.fit_transform(x)\n",
    "x_vect=pd.DataFrame(x_vect.toarray(),columns=vectorizer.get_feature_names())\n",
    "x_vect.head()"
   ]
  },
  {
   "cell_type": "markdown",
   "metadata": {},
   "source": [
    "##after using Tfidf we can use this for train and test portion and apply various algorithm in this model to check its accuracy and its complexity "
   ]
  },
  {
   "cell_type": "code",
   "execution_count": null,
   "metadata": {},
   "outputs": [],
   "source": []
  }
 ],
 "metadata": {
  "kernelspec": {
   "display_name": "Python 3",
   "language": "python",
   "name": "python3"
  },
  "language_info": {
   "codemirror_mode": {
    "name": "ipython",
    "version": 3
   },
   "file_extension": ".py",
   "mimetype": "text/x-python",
   "name": "python",
   "nbconvert_exporter": "python",
   "pygments_lexer": "ipython3",
   "version": "3.8.2"
  }
 },
 "nbformat": 4,
 "nbformat_minor": 4
}

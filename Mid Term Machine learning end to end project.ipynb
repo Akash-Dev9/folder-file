{
 "cells": [
  {
   "cell_type": "markdown",
   "metadata": {},
   "source": [
    "# The Consumer Financial Protection Bureau (CFPB) in the United Statesreceives several consumers’ complaints about the dealings of financial companies. It sends these complaints about their products and services to them for eliciting a response. The CFPB makes sure that these complaints are publishedheresoon after the company responds or after 15 days since sending the complaint to the company."
   ]
  },
  {
   "cell_type": "markdown",
   "metadata": {},
   "source": [
    "Predicting whether a complaint resolution will be accepted or rejected by a consumer can enable a business to proactively look at complaints which might be disputed and hence save unnecessary escalation as well as their reputation. Systemic issues can be identified by noticing which complaints have a higher potential to be disputed, and customer support agents can be trained to pay more attention or enhance the quality of communication for certain types of complaints."
   ]
  },
  {
   "cell_type": "markdown",
   "metadata": {},
   "source": [
    "We have been provided with the information for the dataset as follows- ●Date received: Date when the complaint was received ●Product: Type of product identified in the complaint, e.g., “Student loan”●Sub-product: Type of sub-product identified in the complain ●Issue: The issue raised in the complaint, e.g., “Struggling to repay your loan.” ●Sub-issue: E.g., “Problem lowering your monthly payments.” ●Consumer complaint narrative: This is a consumer-submitted description of “what happened”. Reasonable stepshave been taken to remove personal information that could be used to identify the consumer ●Company public response: The response to a consumer’s complaint. It can be from a pre-set list of options, e.g., “Company believesthecomplaint is the result of anisolated error” ●Company: For which the complaint is about ●State: Derived from the consumer’s mailing address ●ZIP Code: Derived from the consumer’s mailing address ●Consumer consent provided:Flag to specify whether the consumer allowed the publishing of their complaint description ●Submitted via: E.g., “Web” or “Phone.” ●Date sent tothecompany●Company response to consumer ●Timely response: Flag specifying if the response was timely ●Consumer disputed: Flag specifying if the consumer disputed the resolution ●Complaint ID: Identifier for each complaintTwo files have been provided.\n"
   ]
  },
  {
   "cell_type": "code",
   "execution_count": 1,
   "metadata": {},
   "outputs": [],
   "source": [
    "import pandas as pd\n",
    "import numpy as np\n",
    "import matplotlib.pyplot as plt\n",
    "import seaborn as sns\n",
    "from sklearn.preprocessing import LabelEncoder"
   ]
  },
  {
   "cell_type": "code",
   "execution_count": 2,
   "metadata": {},
   "outputs": [
    {
     "data": {
      "text/html": [
       "<div>\n",
       "<style scoped>\n",
       "    .dataframe tbody tr th:only-of-type {\n",
       "        vertical-align: middle;\n",
       "    }\n",
       "\n",
       "    .dataframe tbody tr th {\n",
       "        vertical-align: top;\n",
       "    }\n",
       "\n",
       "    .dataframe thead th {\n",
       "        text-align: right;\n",
       "    }\n",
       "</style>\n",
       "<table border=\"1\" class=\"dataframe\">\n",
       "  <thead>\n",
       "    <tr style=\"text-align: right;\">\n",
       "      <th></th>\n",
       "      <th>Date received</th>\n",
       "      <th>Product</th>\n",
       "      <th>Sub-product</th>\n",
       "      <th>Issue</th>\n",
       "      <th>Sub-issue</th>\n",
       "      <th>Consumer complaint narrative</th>\n",
       "      <th>Company public response</th>\n",
       "      <th>Company</th>\n",
       "      <th>State</th>\n",
       "      <th>ZIP code</th>\n",
       "      <th>Tags</th>\n",
       "      <th>Consumer consent provided?</th>\n",
       "      <th>Submitted via</th>\n",
       "      <th>Date sent to company</th>\n",
       "      <th>Company response to consumer</th>\n",
       "      <th>Timely response?</th>\n",
       "      <th>Consumer disputed?</th>\n",
       "      <th>Complaint ID</th>\n",
       "    </tr>\n",
       "  </thead>\n",
       "  <tbody>\n",
       "    <tr>\n",
       "      <th>0</th>\n",
       "      <td>2015-10-14</td>\n",
       "      <td>Credit reporting</td>\n",
       "      <td>NaN</td>\n",
       "      <td>Incorrect information on credit report</td>\n",
       "      <td>Information is not mine</td>\n",
       "      <td>NaN</td>\n",
       "      <td>NaN</td>\n",
       "      <td>Equifax</td>\n",
       "      <td>GA</td>\n",
       "      <td>30134</td>\n",
       "      <td>NaN</td>\n",
       "      <td>Consent not provided</td>\n",
       "      <td>Web</td>\n",
       "      <td>2015-10-14</td>\n",
       "      <td>Closed with explanation</td>\n",
       "      <td>Yes</td>\n",
       "      <td>No</td>\n",
       "      <td>1605653</td>\n",
       "    </tr>\n",
       "    <tr>\n",
       "      <th>1</th>\n",
       "      <td>2015-04-26</td>\n",
       "      <td>Bank account or service</td>\n",
       "      <td>Other bank product/service</td>\n",
       "      <td>Deposits and withdrawals</td>\n",
       "      <td>NaN</td>\n",
       "      <td>RE : XXXX XXXX XXXX-PRIVILEGED AND CONFIDENTIA...</td>\n",
       "      <td>NaN</td>\n",
       "      <td>Wells Fargo &amp; Company</td>\n",
       "      <td>GA</td>\n",
       "      <td>319XX</td>\n",
       "      <td>NaN</td>\n",
       "      <td>Consent provided</td>\n",
       "      <td>Web</td>\n",
       "      <td>2015-04-26</td>\n",
       "      <td>Closed with explanation</td>\n",
       "      <td>Yes</td>\n",
       "      <td>Yes</td>\n",
       "      <td>1347613</td>\n",
       "    </tr>\n",
       "    <tr>\n",
       "      <th>2</th>\n",
       "      <td>2013-12-20</td>\n",
       "      <td>Credit card</td>\n",
       "      <td>NaN</td>\n",
       "      <td>Other</td>\n",
       "      <td>NaN</td>\n",
       "      <td>NaN</td>\n",
       "      <td>NaN</td>\n",
       "      <td>Citibank</td>\n",
       "      <td>SC</td>\n",
       "      <td>29203</td>\n",
       "      <td>NaN</td>\n",
       "      <td>NaN</td>\n",
       "      <td>Phone</td>\n",
       "      <td>2014-01-03</td>\n",
       "      <td>Closed with non-monetary relief</td>\n",
       "      <td>Yes</td>\n",
       "      <td>No</td>\n",
       "      <td>640394</td>\n",
       "    </tr>\n",
       "    <tr>\n",
       "      <th>3</th>\n",
       "      <td>2016-03-03</td>\n",
       "      <td>Debt collection</td>\n",
       "      <td>Other (i.e. phone, health club, etc.)</td>\n",
       "      <td>Disclosure verification of debt</td>\n",
       "      <td>Not given enough info to verify debt</td>\n",
       "      <td>NaN</td>\n",
       "      <td>Company has responded to the consumer and the ...</td>\n",
       "      <td>FAIR COLLECTIONS &amp; OUTSOURCING, INC.</td>\n",
       "      <td>OH</td>\n",
       "      <td>43082</td>\n",
       "      <td>NaN</td>\n",
       "      <td>NaN</td>\n",
       "      <td>Referral</td>\n",
       "      <td>2016-03-04</td>\n",
       "      <td>Closed with explanation</td>\n",
       "      <td>Yes</td>\n",
       "      <td>No</td>\n",
       "      <td>1815134</td>\n",
       "    </tr>\n",
       "    <tr>\n",
       "      <th>4</th>\n",
       "      <td>2015-01-30</td>\n",
       "      <td>Debt collection</td>\n",
       "      <td>Medical</td>\n",
       "      <td>Disclosure verification of debt</td>\n",
       "      <td>Not given enough info to verify debt</td>\n",
       "      <td>NaN</td>\n",
       "      <td>NaN</td>\n",
       "      <td>HCFS Health Care Financial Services, Inc.</td>\n",
       "      <td>CA</td>\n",
       "      <td>90036</td>\n",
       "      <td>NaN</td>\n",
       "      <td>NaN</td>\n",
       "      <td>Web</td>\n",
       "      <td>2015-01-30</td>\n",
       "      <td>Closed with explanation</td>\n",
       "      <td>Yes</td>\n",
       "      <td>Yes</td>\n",
       "      <td>1218613</td>\n",
       "    </tr>\n",
       "  </tbody>\n",
       "</table>\n",
       "</div>"
      ],
      "text/plain": [
       "  Date received                  Product  \\\n",
       "0    2015-10-14         Credit reporting   \n",
       "1    2015-04-26  Bank account or service   \n",
       "2    2013-12-20              Credit card   \n",
       "3    2016-03-03          Debt collection   \n",
       "4    2015-01-30          Debt collection   \n",
       "\n",
       "                             Sub-product  \\\n",
       "0                                    NaN   \n",
       "1             Other bank product/service   \n",
       "2                                    NaN   \n",
       "3  Other (i.e. phone, health club, etc.)   \n",
       "4                                Medical   \n",
       "\n",
       "                                    Issue  \\\n",
       "0  Incorrect information on credit report   \n",
       "1                Deposits and withdrawals   \n",
       "2                                   Other   \n",
       "3         Disclosure verification of debt   \n",
       "4         Disclosure verification of debt   \n",
       "\n",
       "                              Sub-issue  \\\n",
       "0               Information is not mine   \n",
       "1                                   NaN   \n",
       "2                                   NaN   \n",
       "3  Not given enough info to verify debt   \n",
       "4  Not given enough info to verify debt   \n",
       "\n",
       "                        Consumer complaint narrative  \\\n",
       "0                                                NaN   \n",
       "1  RE : XXXX XXXX XXXX-PRIVILEGED AND CONFIDENTIA...   \n",
       "2                                                NaN   \n",
       "3                                                NaN   \n",
       "4                                                NaN   \n",
       "\n",
       "                             Company public response  \\\n",
       "0                                                NaN   \n",
       "1                                                NaN   \n",
       "2                                                NaN   \n",
       "3  Company has responded to the consumer and the ...   \n",
       "4                                                NaN   \n",
       "\n",
       "                                     Company State ZIP code Tags  \\\n",
       "0                                    Equifax    GA    30134  NaN   \n",
       "1                      Wells Fargo & Company    GA    319XX  NaN   \n",
       "2                                   Citibank    SC    29203  NaN   \n",
       "3       FAIR COLLECTIONS & OUTSOURCING, INC.    OH    43082  NaN   \n",
       "4  HCFS Health Care Financial Services, Inc.    CA    90036  NaN   \n",
       "\n",
       "  Consumer consent provided? Submitted via Date sent to company  \\\n",
       "0       Consent not provided           Web           2015-10-14   \n",
       "1           Consent provided           Web           2015-04-26   \n",
       "2                        NaN         Phone           2014-01-03   \n",
       "3                        NaN      Referral           2016-03-04   \n",
       "4                        NaN           Web           2015-01-30   \n",
       "\n",
       "      Company response to consumer Timely response? Consumer disputed?  \\\n",
       "0          Closed with explanation              Yes                 No   \n",
       "1          Closed with explanation              Yes                Yes   \n",
       "2  Closed with non-monetary relief              Yes                 No   \n",
       "3          Closed with explanation              Yes                 No   \n",
       "4          Closed with explanation              Yes                Yes   \n",
       "\n",
       "   Complaint ID  \n",
       "0       1605653  \n",
       "1       1347613  \n",
       "2        640394  \n",
       "3       1815134  \n",
       "4       1218613  "
      ]
     },
     "execution_count": 2,
     "metadata": {},
     "output_type": "execute_result"
    }
   ],
   "source": [
    "consumer=pd.read_csv('Edureka_Consumer_Complaints_train.csv')\n",
    "consumer.head()"
   ]
  },
  {
   "cell_type": "code",
   "execution_count": 75,
   "metadata": {},
   "outputs": [
    {
     "data": {
      "text/plain": [
       "(871, 24)"
      ]
     },
     "execution_count": 75,
     "metadata": {},
     "output_type": "execute_result"
    }
   ],
   "source": [
    "consumer.shape"
   ]
  },
  {
   "cell_type": "code",
   "execution_count": 2,
   "metadata": {},
   "outputs": [
    {
     "data": {
      "text/html": [
       "<div>\n",
       "<style scoped>\n",
       "    .dataframe tbody tr th:only-of-type {\n",
       "        vertical-align: middle;\n",
       "    }\n",
       "\n",
       "    .dataframe tbody tr th {\n",
       "        vertical-align: top;\n",
       "    }\n",
       "\n",
       "    .dataframe thead th {\n",
       "        text-align: right;\n",
       "    }\n",
       "</style>\n",
       "<table border=\"1\" class=\"dataframe\">\n",
       "  <thead>\n",
       "    <tr style=\"text-align: right;\">\n",
       "      <th></th>\n",
       "      <th>null</th>\n",
       "      <th>Percentage</th>\n",
       "    </tr>\n",
       "  </thead>\n",
       "  <tbody>\n",
       "    <tr>\n",
       "      <th>Date received</th>\n",
       "      <td>0</td>\n",
       "      <td>0.000000</td>\n",
       "    </tr>\n",
       "    <tr>\n",
       "      <th>Product</th>\n",
       "      <td>0</td>\n",
       "      <td>0.000000</td>\n",
       "    </tr>\n",
       "    <tr>\n",
       "      <th>Sub-product</th>\n",
       "      <td>10378600</td>\n",
       "      <td>28.925058</td>\n",
       "    </tr>\n",
       "    <tr>\n",
       "      <th>Issue</th>\n",
       "      <td>0</td>\n",
       "      <td>0.000000</td>\n",
       "    </tr>\n",
       "    <tr>\n",
       "      <th>Sub-issue</th>\n",
       "      <td>21937400</td>\n",
       "      <td>61.139322</td>\n",
       "    </tr>\n",
       "    <tr>\n",
       "      <th>Consumer complaint narrative</th>\n",
       "      <td>30263000</td>\n",
       "      <td>84.342688</td>\n",
       "    </tr>\n",
       "    <tr>\n",
       "      <th>Company public response</th>\n",
       "      <td>29087900</td>\n",
       "      <td>81.067696</td>\n",
       "    </tr>\n",
       "    <tr>\n",
       "      <th>Company</th>\n",
       "      <td>0</td>\n",
       "      <td>0.000000</td>\n",
       "    </tr>\n",
       "    <tr>\n",
       "      <th>State</th>\n",
       "      <td>290300</td>\n",
       "      <td>0.809063</td>\n",
       "    </tr>\n",
       "    <tr>\n",
       "      <th>ZIP code</th>\n",
       "      <td>291100</td>\n",
       "      <td>0.811293</td>\n",
       "    </tr>\n",
       "    <tr>\n",
       "      <th>Tags</th>\n",
       "      <td>30858400</td>\n",
       "      <td>86.002062</td>\n",
       "    </tr>\n",
       "    <tr>\n",
       "      <th>Consumer consent provided?</th>\n",
       "      <td>25723000</td>\n",
       "      <td>71.689752</td>\n",
       "    </tr>\n",
       "    <tr>\n",
       "      <th>Submitted via</th>\n",
       "      <td>0</td>\n",
       "      <td>0.000000</td>\n",
       "    </tr>\n",
       "    <tr>\n",
       "      <th>Date sent to company</th>\n",
       "      <td>0</td>\n",
       "      <td>0.000000</td>\n",
       "    </tr>\n",
       "    <tr>\n",
       "      <th>Company response to consumer</th>\n",
       "      <td>0</td>\n",
       "      <td>0.000000</td>\n",
       "    </tr>\n",
       "    <tr>\n",
       "      <th>Timely response?</th>\n",
       "      <td>0</td>\n",
       "      <td>0.000000</td>\n",
       "    </tr>\n",
       "    <tr>\n",
       "      <th>Consumer disputed?</th>\n",
       "      <td>0</td>\n",
       "      <td>0.000000</td>\n",
       "    </tr>\n",
       "    <tr>\n",
       "      <th>Complaint ID</th>\n",
       "      <td>0</td>\n",
       "      <td>0.000000</td>\n",
       "    </tr>\n",
       "  </tbody>\n",
       "</table>\n",
       "</div>"
      ],
      "text/plain": [
       "                                  null  Percentage\n",
       "Date received                        0    0.000000\n",
       "Product                              0    0.000000\n",
       "Sub-product                   10378600   28.925058\n",
       "Issue                                0    0.000000\n",
       "Sub-issue                     21937400   61.139322\n",
       "Consumer complaint narrative  30263000   84.342688\n",
       "Company public response       29087900   81.067696\n",
       "Company                              0    0.000000\n",
       "State                           290300    0.809063\n",
       "ZIP code                        291100    0.811293\n",
       "Tags                          30858400   86.002062\n",
       "Consumer consent provided?    25723000   71.689752\n",
       "Submitted via                        0    0.000000\n",
       "Date sent to company                 0    0.000000\n",
       "Company response to consumer         0    0.000000\n",
       "Timely response?                     0    0.000000\n",
       "Consumer disputed?                   0    0.000000\n",
       "Complaint ID                         0    0.000000"
      ]
     },
     "execution_count": 2,
     "metadata": {},
     "output_type": "execute_result"
    }
   ],
   "source": [
    "pd.DataFrame({'null':consumer.isnull().sum(),'Percentage':consumer.isnull().sum()/len(consumer)})*100\n",
    "#analysing null values"
   ]
  },
  {
   "cell_type": "code",
   "execution_count": 5,
   "metadata": {},
   "outputs": [
    {
     "name": "stdout",
     "output_type": "stream",
     "text": [
      "<class 'pandas.core.frame.DataFrame'>\n",
      "RangeIndex: 358810 entries, 0 to 358809\n",
      "Data columns (total 18 columns):\n",
      " #   Column                        Non-Null Count   Dtype \n",
      "---  ------                        --------------   ----- \n",
      " 0   Date received                 358810 non-null  object\n",
      " 1   Product                       358810 non-null  object\n",
      " 2   Sub-product                   255024 non-null  object\n",
      " 3   Issue                         358810 non-null  object\n",
      " 4   Sub-issue                     139436 non-null  object\n",
      " 5   Consumer complaint narrative  56180 non-null   object\n",
      " 6   Company public response       67931 non-null   object\n",
      " 7   Company                       358810 non-null  object\n",
      " 8   State                         355907 non-null  object\n",
      " 9   ZIP code                      355899 non-null  object\n",
      " 10  Tags                          50226 non-null   object\n",
      " 11  Consumer consent provided?    101580 non-null  object\n",
      " 12  Submitted via                 358810 non-null  object\n",
      " 13  Date sent to company          358810 non-null  object\n",
      " 14  Company response to consumer  358810 non-null  object\n",
      " 15  Timely response?              358810 non-null  object\n",
      " 16  Consumer disputed?            358810 non-null  object\n",
      " 17  Complaint ID                  358810 non-null  int64 \n",
      "dtypes: int64(1), object(17)\n",
      "memory usage: 49.3+ MB\n"
     ]
    }
   ],
   "source": [
    "consumer.info()"
   ]
  },
  {
   "cell_type": "code",
   "execution_count": 6,
   "metadata": {},
   "outputs": [
    {
     "name": "stdout",
     "output_type": "stream",
     "text": [
      "358810\n",
      "[1758, 12, 48, 95, 68, 55536, 11, 3064, 63, 24182, 4, 5, 6, 1701, 6, 2, 2, 358810]\n"
     ]
    }
   ],
   "source": [
    "no_of_unique_values=len(consumer)\n",
    "print(no_of_unique_values)\n",
    "l=[]\n",
    "for i in consumer.columns:\n",
    "    l.append(len(set(consumer[i])))\n",
    "print(l)"
   ]
  },
  {
   "cell_type": "markdown",
   "metadata": {},
   "source": [
    "# Data Exploration"
   ]
  },
  {
   "cell_type": "code",
   "execution_count": 7,
   "metadata": {},
   "outputs": [
    {
     "name": "stdout",
     "output_type": "stream",
     "text": [
      "Wrong amount charged or received\n"
     ]
    }
   ],
   "source": [
    "top_issue=consumer['Issue'].max() #This is the top issue raised by consumers\n",
    "print(top_issue)"
   ]
  },
  {
   "cell_type": "code",
   "execution_count": 8,
   "metadata": {},
   "outputs": [
    {
     "data": {
      "text/plain": [
       "array(['Credit reporting', 'Bank account or service', 'Credit card',\n",
       "       'Debt collection', 'Mortgage', 'Consumer Loan', 'Payday loan',\n",
       "       'Student loan', 'Money transfers', 'Other financial service',\n",
       "       'Prepaid card', 'Virtual currency'], dtype=object)"
      ]
     },
     "execution_count": 8,
     "metadata": {},
     "output_type": "execute_result"
    }
   ],
   "source": [
    "consumer['Product'].unique()"
   ]
  },
  {
   "cell_type": "code",
   "execution_count": 6,
   "metadata": {},
   "outputs": [
    {
     "name": "stdout",
     "output_type": "stream",
     "text": [
      "Product\n",
      "Debt collection            14402\n",
      "Mortgage                   12244\n",
      "Credit reporting           10670\n",
      "Credit card                 6659\n",
      "Bank account or service     4875\n",
      "Consumer Loan               3104\n",
      "Student loan                2371\n",
      "Prepaid card                 608\n",
      "Payday loan                  604\n",
      "Money transfers              543\n",
      "Other financial service       96\n",
      "Virtual currency               4\n",
      "Name: Consumer complaint narrative, dtype: int64\n"
     ]
    }
   ],
   "source": [
    "no_of_complaints=consumer.groupby(['Product'])['Consumer complaint narrative'].count().sort_values(ascending=False)\n",
    "print(no_of_complaints)"
   ]
  },
  {
   "cell_type": "code",
   "execution_count": 7,
   "metadata": {},
   "outputs": [
    {
     "data": {
      "text/plain": [
       "<matplotlib.axes._subplots.AxesSubplot at 0x169031f5490>"
      ]
     },
     "execution_count": 7,
     "metadata": {},
     "output_type": "execute_result"
    },
    {
     "data": {
      "image/png": "[encoded data removed]",
      "text/plain": [
       "<Figure size 432x288 with 1 Axes>"
      ]
     },
     "metadata": {
      "needs_background": "light"
     },
     "output_type": "display_data"
    }
   ],
   "source": [
    "no_of_complaints.plot.bar()"
   ]
  },
  {
   "cell_type": "raw",
   "metadata": {},
   "source": [
    "# we can see that \"Debt collection\" has high number of complaint by the customer whereas \"virtual currency\" has least number of complaints."
   ]
  },
  {
   "cell_type": "code",
   "execution_count": 11,
   "metadata": {},
   "outputs": [
    {
     "data": {
      "text/plain": [
       "array(['Equifax', 'Wells Fargo & Company', 'Citibank', ...,\n",
       "       'Balekian Hayes, PLLC', 'ALE Solutions, Inc.',\n",
       "       'National Loan Investors, LP'], dtype=object)"
      ]
     },
     "execution_count": 11,
     "metadata": {},
     "output_type": "execute_result"
    }
   ],
   "source": [
    "consumer['Company'].unique()"
   ]
  },
  {
   "cell_type": "code",
   "execution_count": 12,
   "metadata": {},
   "outputs": [
    {
     "data": {
      "text/plain": [
       "Company\n",
       "Bank of America                           34903\n",
       "Wells Fargo & Company                     26490\n",
       "JPMorgan Chase & Co.                      21677\n",
       "Equifax                                   21489\n",
       "Experian                                  20075\n",
       "TransUnion Intermediate Holdings, Inc.    16881\n",
       "Citibank                                  16792\n",
       "Ocwen                                     13110\n",
       "Capital One                               10082\n",
       "Nationstar Mortgage                        8414\n",
       "Name: Complaint ID, dtype: int64"
      ]
     },
     "execution_count": 12,
     "metadata": {},
     "output_type": "execute_result"
    }
   ],
   "source": [
    "complaints=consumer.groupby(['Company'])['Complaint ID'].count().sort_values(ascending=False)\n",
    "complaints.head(10)"
   ]
  },
  {
   "cell_type": "raw",
   "metadata": {},
   "source": [
    "## we can see that 'Bank of America' received highest number of compliants while 'Nationstar Mortgage' received least number of compliants when compared with the other company."
   ]
  },
  {
   "cell_type": "code",
   "execution_count": 13,
   "metadata": {},
   "outputs": [
    {
     "name": "stdout",
     "output_type": "stream",
     "text": [
      "Web            235462\n",
      "Referral        68450\n",
      "Phone           25802\n",
      "Postal mail     23644\n",
      "Fax              5264\n",
      "Email             188\n",
      "Name: Submitted via, dtype: int64\n"
     ]
    }
   ],
   "source": [
    "source_medium=consumer['Submitted via'].value_counts()\n",
    "print(source_medium)"
   ]
  },
  {
   "cell_type": "code",
   "execution_count": 4,
   "metadata": {},
   "outputs": [
    {
     "name": "stdout",
     "output_type": "stream",
     "text": [
      "AxesSubplot(0.125,0.125;0.775x0.755)\n"
     ]
    },
    {
     "data": {
      "image/png": "[encoded data removed]",
      "text/plain": [
       "<Figure size 432x288 with 1 Axes>"
      ]
     },
     "metadata": {
      "needs_background": "light"
     },
     "output_type": "display_data"
    }
   ],
   "source": [
    "source_medium=consumer['Submitted via'].value_counts().plot.bar()\n",
    "print(source_medium)"
   ]
  },
  {
   "cell_type": "raw",
   "metadata": {},
   "source": [
    "##Here we can see the company response to the consumer with different issues."
   ]
  },
  {
   "cell_type": "code",
   "execution_count": 8,
   "metadata": {},
   "outputs": [
    {
     "data": {
      "text/plain": [
       "State\n",
       "CA    52368\n",
       "FL    34567\n",
       "TX    26683\n",
       "NY    24554\n",
       "GA    15886\n",
       "      ...  \n",
       "MH       19\n",
       "MP       13\n",
       "AS        9\n",
       "PW        8\n",
       "AA        7\n",
       "Name: Complaint ID, Length: 62, dtype: int64"
      ]
     },
     "execution_count": 8,
     "metadata": {},
     "output_type": "execute_result"
    }
   ],
   "source": [
    "state_complaints=consumer.groupby(['State'])['Complaint ID'].count()\n",
    "state_complaints.sort_values(ascending=False)"
   ]
  },
  {
   "cell_type": "code",
   "execution_count": 10,
   "metadata": {},
   "outputs": [
    {
     "data": {
      "text/plain": [
       "<matplotlib.axes._subplots.AxesSubplot at 0x1690337a220>"
      ]
     },
     "execution_count": 10,
     "metadata": {},
     "output_type": "execute_result"
    },
    {
     "data": {
      "image/png": "[encoded data removed]",
      "text/plain": [
       "<Figure size 720x1080 with 1 Axes>"
      ]
     },
     "metadata": {
      "needs_background": "light"
     },
     "output_type": "display_data"
    }
   ],
   "source": [
    "plt.figure(figsize=(10,15))\n",
    "state_complaints.sort_values(ascending=False).plot.barh()"
   ]
  },
  {
   "cell_type": "code",
   "execution_count": 3,
   "metadata": {},
   "outputs": [],
   "source": [
    "from datetime import datetime\n",
    "df_train['Date']=pd.to_datetime(consumer['Date received'])\n",
    "df_train['Year']=df_train['Date'].dt.year #extracting year\n",
    "df_train['Month']=df_train['Date'].dt.month #extracting month\n",
    "df_train[\"Year_Month\"] = df_train.Year.astype(str).str.cat(df_train.Month.astype(str), sep='-')\n"
   ]
  },
  {
   "cell_type": "code",
   "execution_count": 4,
   "metadata": {},
   "outputs": [],
   "source": [
    "df_train['Date']=pd.to_datetime(consumer['Date received'])\n",
    "df_train['Year']=df_train['Date'].dt.year #extracting year\n",
    "df_train['Month']=df_train['Date'].dt.month#extracting month\n",
    "df_train['week']=df_train['Date'].dt.week\n",
    "df_train['day']=df_train['Date'].dt.day\n",
    "df_train['week_day']=df_train.week.astype(str).str.cat(df_train.day.astype(str),sep='-')"
   ]
  },
  {
   "cell_type": "code",
   "execution_count": 5,
   "metadata": {},
   "outputs": [],
   "source": [
    "consumer['year_month']=df_train[\"Year_Month\"] \n",
    "consumer['week_day']=df_train['week_day']"
   ]
  },
  {
   "cell_type": "code",
   "execution_count": 33,
   "metadata": {},
   "outputs": [
    {
     "data": {
      "text/plain": [
       "year_month\n",
       "2016-3    93\n",
       "2015-9    88\n",
       "2016-6    82\n",
       "2015-7    81\n",
       "2016-4    78\n",
       "Name: Complaint ID, dtype: int64"
      ]
     },
     "execution_count": 33,
     "metadata": {},
     "output_type": "execute_result"
    }
   ],
   "source": [
    "consumer.groupby(['year_month'])['Complaint ID'].count().sort_values(ascending=False).head()"
   ]
  },
  {
   "cell_type": "code",
   "execution_count": 23,
   "metadata": {},
   "outputs": [
    {
     "data": {
      "text/plain": [
       "week_day\n",
       "35-27    1304\n",
       "37-10    1286\n",
       "15-11    1273\n",
       "11-14    1259\n",
       "26-26    1258\n",
       "Name: Complaint ID, dtype: int64"
      ]
     },
     "execution_count": 23,
     "metadata": {},
     "output_type": "execute_result"
    }
   ],
   "source": [
    "consumer.groupby(['week_day'])['Complaint ID'].count().sort_values(ascending=False).head()"
   ]
  },
  {
   "cell_type": "code",
   "execution_count": 24,
   "metadata": {},
   "outputs": [
    {
     "data": {
      "text/plain": [
       "Company response to consumer\n",
       "Closed with explanation            265700\n",
       "Closed with non-monetary relief     46085\n",
       "Closed with monetary relief         24715\n",
       "Closed without relief               10604\n",
       "Closed                               8568\n",
       "Closed with relief                   3138\n",
       "Name: Company, dtype: int64"
      ]
     },
     "execution_count": 24,
     "metadata": {},
     "output_type": "execute_result"
    }
   ],
   "source": [
    "company_respond=consumer.groupby(['Company response to consumer'])['Company'].count().sort_values(ascending=False)\n",
    "company_respond"
   ]
  },
  {
   "cell_type": "raw",
   "metadata": {},
   "source": [
    "##Here we can see how companies responded to the customer with different medium"
   ]
  },
  {
   "cell_type": "code",
   "execution_count": 25,
   "metadata": {},
   "outputs": [
    {
     "data": {
      "text/plain": [
       "Company public response\n",
       "Company chooses not to provide a public response                                                                           31526\n",
       "Company has responded to the consumer and the CFPB and chooses not to provide a public response                            19268\n",
       "Company believes it acted appropriately as authorized by contract or law                                                   12055\n",
       "Company believes complaint caused principally by actions of third party outside the control or direction of the company     1091\n",
       "Company believes the complaint is the result of a misunderstanding                                                          1075\n",
       "Name: Company, dtype: int64"
      ]
     },
     "execution_count": 25,
     "metadata": {},
     "output_type": "execute_result"
    }
   ],
   "source": [
    "common_response =consumer.groupby(['Company public response'])['Company'].count().sort_values(ascending=False).head()\n",
    "common_response"
   ]
  },
  {
   "cell_type": "raw",
   "metadata": {},
   "source": [
    "##This are the most common responses received against the complaints."
   ]
  },
  {
   "cell_type": "code",
   "execution_count": 26,
   "metadata": {},
   "outputs": [
    {
     "name": "stdout",
     "output_type": "stream",
     "text": [
      "Timely response?  Consumer disputed?\n",
      "No                No                      4906\n",
      "                  Yes                     1229\n",
      "Yes               No                    277732\n",
      "                  Yes                    74943\n",
      "Name: Consumer disputed?, dtype: int64\n"
     ]
    }
   ],
   "source": [
    "timely_manner=consumer.groupby(['Timely response?','Consumer disputed?'])['Consumer disputed?'].count()\n",
    "print(timely_manner)"
   ]
  },
  {
   "cell_type": "raw",
   "metadata": {},
   "source": [
    "##Here on the above line we can see that the consequences of company timely responsed that results on customer disputed or not hence the ratio of customer disputed is 74943:1229 where as ratio of not disputed is 277732:4906\n",
    "so we can conclude from this figure that responding to the customer on time save our customer to be disputed."
   ]
  },
  {
   "cell_type": "code",
   "execution_count": 6,
   "metadata": {},
   "outputs": [
    {
     "data": {
      "text/html": [
       "<div>\n",
       "<style scoped>\n",
       "    .dataframe tbody tr th:only-of-type {\n",
       "        vertical-align: middle;\n",
       "    }\n",
       "\n",
       "    .dataframe tbody tr th {\n",
       "        vertical-align: top;\n",
       "    }\n",
       "\n",
       "    .dataframe thead th {\n",
       "        text-align: right;\n",
       "    }\n",
       "</style>\n",
       "<table border=\"1\" class=\"dataframe\">\n",
       "  <thead>\n",
       "    <tr style=\"text-align: right;\">\n",
       "      <th></th>\n",
       "      <th>index</th>\n",
       "      <th>Date received</th>\n",
       "      <th>Product</th>\n",
       "      <th>Sub-product</th>\n",
       "      <th>Issue</th>\n",
       "      <th>Sub-issue</th>\n",
       "      <th>Consumer complaint narrative</th>\n",
       "      <th>Company public response</th>\n",
       "      <th>Company</th>\n",
       "      <th>State</th>\n",
       "      <th>...</th>\n",
       "      <th>Tags</th>\n",
       "      <th>Consumer consent provided?</th>\n",
       "      <th>Submitted via</th>\n",
       "      <th>Date sent to company</th>\n",
       "      <th>Company response to consumer</th>\n",
       "      <th>Timely response?</th>\n",
       "      <th>Consumer disputed?</th>\n",
       "      <th>Complaint ID</th>\n",
       "      <th>year_month</th>\n",
       "      <th>week_day</th>\n",
       "    </tr>\n",
       "  </thead>\n",
       "  <tbody>\n",
       "    <tr>\n",
       "      <th>0</th>\n",
       "      <td>109</td>\n",
       "      <td>2015-09-08</td>\n",
       "      <td>Debt collection</td>\n",
       "      <td>Other (i.e. phone, health club, etc.)</td>\n",
       "      <td>False statements or representation</td>\n",
       "      <td>Attempted to collect wrong amount</td>\n",
       "      <td>Amshire Collections is attempting to collect a...</td>\n",
       "      <td>Company believes it acted appropriately as aut...</td>\n",
       "      <td>Amsher Collection Services, Inc.</td>\n",
       "      <td>IN</td>\n",
       "      <td>...</td>\n",
       "      <td>Servicemember</td>\n",
       "      <td>Consent provided</td>\n",
       "      <td>Web</td>\n",
       "      <td>2015-09-08</td>\n",
       "      <td>Closed with explanation</td>\n",
       "      <td>Yes</td>\n",
       "      <td>No</td>\n",
       "      <td>1554834</td>\n",
       "      <td>2015-9</td>\n",
       "      <td>37-8</td>\n",
       "    </tr>\n",
       "    <tr>\n",
       "      <th>1</th>\n",
       "      <td>356</td>\n",
       "      <td>2016-07-07</td>\n",
       "      <td>Debt collection</td>\n",
       "      <td>Credit card</td>\n",
       "      <td>Cont'd attempts collect debt not owed</td>\n",
       "      <td>Debt is not mine</td>\n",
       "      <td>I WAS SUED BY EQUABLE ASCENT FINANCIAL LLC WHI...</td>\n",
       "      <td>Company can't verify or dispute the facts in t...</td>\n",
       "      <td>Allgate Financial, LLC</td>\n",
       "      <td>MD</td>\n",
       "      <td>...</td>\n",
       "      <td>Servicemember</td>\n",
       "      <td>Consent provided</td>\n",
       "      <td>Web</td>\n",
       "      <td>2016-07-07</td>\n",
       "      <td>Closed with explanation</td>\n",
       "      <td>Yes</td>\n",
       "      <td>Yes</td>\n",
       "      <td>2003210</td>\n",
       "      <td>2016-7</td>\n",
       "      <td>27-7</td>\n",
       "    </tr>\n",
       "    <tr>\n",
       "      <th>2</th>\n",
       "      <td>597</td>\n",
       "      <td>2015-10-24</td>\n",
       "      <td>Debt collection</td>\n",
       "      <td>Other (i.e. phone, health club, etc.)</td>\n",
       "      <td>False statements or representation</td>\n",
       "      <td>Attempted to collect wrong amount</td>\n",
       "      <td>I owe a bill XXXX from early cancellation of c...</td>\n",
       "      <td>Company believes it acted appropriately as aut...</td>\n",
       "      <td>Valentine and Kebartas, Inc.</td>\n",
       "      <td>OH</td>\n",
       "      <td>...</td>\n",
       "      <td>Servicemember</td>\n",
       "      <td>Consent provided</td>\n",
       "      <td>Web</td>\n",
       "      <td>2015-10-28</td>\n",
       "      <td>Closed with explanation</td>\n",
       "      <td>Yes</td>\n",
       "      <td>Yes</td>\n",
       "      <td>1623434</td>\n",
       "      <td>2015-10</td>\n",
       "      <td>43-24</td>\n",
       "    </tr>\n",
       "    <tr>\n",
       "      <th>3</th>\n",
       "      <td>851</td>\n",
       "      <td>2015-11-16</td>\n",
       "      <td>Debt collection</td>\n",
       "      <td>Other (i.e. phone, health club, etc.)</td>\n",
       "      <td>Disclosure verification of debt</td>\n",
       "      <td>Right to dispute notice not received</td>\n",
       "      <td>Defendant gave debt to collection agency who c...</td>\n",
       "      <td>Company chooses not to provide a public response</td>\n",
       "      <td>SquareTwo Financial Corporation</td>\n",
       "      <td>FL</td>\n",
       "      <td>...</td>\n",
       "      <td>Older American, Servicemember</td>\n",
       "      <td>Consent provided</td>\n",
       "      <td>Web</td>\n",
       "      <td>2015-11-16</td>\n",
       "      <td>Closed with explanation</td>\n",
       "      <td>Yes</td>\n",
       "      <td>Yes</td>\n",
       "      <td>1657784</td>\n",
       "      <td>2015-11</td>\n",
       "      <td>47-16</td>\n",
       "    </tr>\n",
       "    <tr>\n",
       "      <th>4</th>\n",
       "      <td>927</td>\n",
       "      <td>2016-01-29</td>\n",
       "      <td>Debt collection</td>\n",
       "      <td>Other (i.e. phone, health club, etc.)</td>\n",
       "      <td>Cont'd attempts collect debt not owed</td>\n",
       "      <td>Debt was paid</td>\n",
       "      <td>XXXX XXXX continues to send this account to co...</td>\n",
       "      <td>Company believes it acted appropriately as aut...</td>\n",
       "      <td>Pinnacle Credit Services, LLC</td>\n",
       "      <td>SC</td>\n",
       "      <td>...</td>\n",
       "      <td>Servicemember</td>\n",
       "      <td>Consent provided</td>\n",
       "      <td>Web</td>\n",
       "      <td>2016-02-03</td>\n",
       "      <td>Closed with explanation</td>\n",
       "      <td>Yes</td>\n",
       "      <td>No</td>\n",
       "      <td>1764007</td>\n",
       "      <td>2016-1</td>\n",
       "      <td>4-29</td>\n",
       "    </tr>\n",
       "  </tbody>\n",
       "</table>\n",
       "<p>5 rows × 21 columns</p>\n",
       "</div>"
      ],
      "text/plain": [
       "   index Date received          Product  \\\n",
       "0    109    2015-09-08  Debt collection   \n",
       "1    356    2016-07-07  Debt collection   \n",
       "2    597    2015-10-24  Debt collection   \n",
       "3    851    2015-11-16  Debt collection   \n",
       "4    927    2016-01-29  Debt collection   \n",
       "\n",
       "                             Sub-product  \\\n",
       "0  Other (i.e. phone, health club, etc.)   \n",
       "1                            Credit card   \n",
       "2  Other (i.e. phone, health club, etc.)   \n",
       "3  Other (i.e. phone, health club, etc.)   \n",
       "4  Other (i.e. phone, health club, etc.)   \n",
       "\n",
       "                                   Issue  \\\n",
       "0     False statements or representation   \n",
       "1  Cont'd attempts collect debt not owed   \n",
       "2     False statements or representation   \n",
       "3        Disclosure verification of debt   \n",
       "4  Cont'd attempts collect debt not owed   \n",
       "\n",
       "                              Sub-issue  \\\n",
       "0     Attempted to collect wrong amount   \n",
       "1                      Debt is not mine   \n",
       "2     Attempted to collect wrong amount   \n",
       "3  Right to dispute notice not received   \n",
       "4                         Debt was paid   \n",
       "\n",
       "                        Consumer complaint narrative  \\\n",
       "0  Amshire Collections is attempting to collect a...   \n",
       "1  I WAS SUED BY EQUABLE ASCENT FINANCIAL LLC WHI...   \n",
       "2  I owe a bill XXXX from early cancellation of c...   \n",
       "3  Defendant gave debt to collection agency who c...   \n",
       "4  XXXX XXXX continues to send this account to co...   \n",
       "\n",
       "                             Company public response  \\\n",
       "0  Company believes it acted appropriately as aut...   \n",
       "1  Company can't verify or dispute the facts in t...   \n",
       "2  Company believes it acted appropriately as aut...   \n",
       "3   Company chooses not to provide a public response   \n",
       "4  Company believes it acted appropriately as aut...   \n",
       "\n",
       "                            Company State  ...                           Tags  \\\n",
       "0  Amsher Collection Services, Inc.    IN  ...                  Servicemember   \n",
       "1            Allgate Financial, LLC    MD  ...                  Servicemember   \n",
       "2      Valentine and Kebartas, Inc.    OH  ...                  Servicemember   \n",
       "3   SquareTwo Financial Corporation    FL  ...  Older American, Servicemember   \n",
       "4     Pinnacle Credit Services, LLC    SC  ...                  Servicemember   \n",
       "\n",
       "  Consumer consent provided? Submitted via Date sent to company  \\\n",
       "0           Consent provided           Web           2015-09-08   \n",
       "1           Consent provided           Web           2016-07-07   \n",
       "2           Consent provided           Web           2015-10-28   \n",
       "3           Consent provided           Web           2015-11-16   \n",
       "4           Consent provided           Web           2016-02-03   \n",
       "\n",
       "  Company response to consumer Timely response? Consumer disputed?  \\\n",
       "0      Closed with explanation              Yes                 No   \n",
       "1      Closed with explanation              Yes                Yes   \n",
       "2      Closed with explanation              Yes                Yes   \n",
       "3      Closed with explanation              Yes                Yes   \n",
       "4      Closed with explanation              Yes                 No   \n",
       "\n",
       "  Complaint ID  year_month week_day  \n",
       "0      1554834      2015-9     37-8  \n",
       "1      2003210      2016-7     27-7  \n",
       "2      1623434     2015-10    43-24  \n",
       "3      1657784     2015-11    47-16  \n",
       "4      1764007      2016-1     4-29  \n",
       "\n",
       "[5 rows x 21 columns]"
      ]
     },
     "execution_count": 6,
     "metadata": {},
     "output_type": "execute_result"
    }
   ],
   "source": [
    "consumer.dropna(inplace=True)\n",
    "consumer.reset_index().head()"
   ]
  },
  {
   "cell_type": "code",
   "execution_count": 8,
   "metadata": {},
   "outputs": [
    {
     "data": {
      "text/plain": [
       "Date received                   0\n",
       "Product                         0\n",
       "Sub-product                     0\n",
       "Issue                           0\n",
       "Sub-issue                       0\n",
       "Consumer complaint narrative    0\n",
       "Company public response         0\n",
       "Company                         0\n",
       "State                           0\n",
       "ZIP code                        0\n",
       "Tags                            0\n",
       "Consumer consent provided?      0\n",
       "Submitted via                   0\n",
       "Date sent to company            0\n",
       "Company response to consumer    0\n",
       "Timely response?                0\n",
       "Consumer disputed?              0\n",
       "Complaint ID                    0\n",
       "year_month                      0\n",
       "week_day                        0\n",
       "dtype: int64"
      ]
     },
     "execution_count": 8,
     "metadata": {},
     "output_type": "execute_result"
    }
   ],
   "source": [
    "consumer.isnull().sum()"
   ]
  },
  {
   "cell_type": "code",
   "execution_count": 8,
   "metadata": {},
   "outputs": [
    {
     "name": "stderr",
     "output_type": "stream",
     "text": [
      "[nltk_data] Downloading package punkt to\n",
      "[nltk_data]     C:\\Users\\ASUS\\AppData\\Roaming\\nltk_data...\n",
      "[nltk_data]   Package punkt is already up-to-date!\n",
      "[nltk_data] Downloading package stopwords to\n",
      "[nltk_data]     C:\\Users\\ASUS\\AppData\\Roaming\\nltk_data...\n",
      "[nltk_data]   Package stopwords is already up-to-date!\n"
     ]
    }
   ],
   "source": [
    "# Load the required libraries for cleaning\n",
    "import nltk\n",
    "nltk.download('punkt')\n",
    "nltk.download('stopwords')\n",
    "import string,re\n",
    "from nltk.tokenize import word_tokenize\n",
    "from nltk.corpus import stopwords"
   ]
  },
  {
   "cell_type": "code",
   "execution_count": 10,
   "metadata": {},
   "outputs": [],
   "source": [
    "# Create a function to generate cleaned data from raw text\n",
    "def clean_text(consumer):\n",
    "    consumer= word_tokenize(consumer) # Create tokens\n",
    "    consumer= \" \".join(consumer) # Join tokens\n",
    "    consumer= re.sub('XXXX','',consumer) # Remove 'XXXX' text with blank\n",
    "    consumer= [char for char in consumer if char not in string.punctuation] # Remove punctuations\n",
    "    consumer= ''.join(consumer) # Join the leters\n",
    "    consumer= [word for word in consumer.split() if word.lower() not in stopwords.words('english')] # Remove common english words (I, you, we,...)\n",
    "    return \" \".join(consumer)"
   ]
  },
  {
   "cell_type": "code",
   "execution_count": 11,
   "metadata": {},
   "outputs": [
    {
     "data": {
      "text/plain": [
       "109     Amshire Collections attempting collect fabrica...\n",
       "356     SUED EQUABLE ASCENT FINANCIAL LLC RESULTED JUD...\n",
       "597     owe bill early cancellation contract 100000 de...\n",
       "851     Defendant gave debt collection agency could ve...\n",
       "927     continues send account collections bill alread...\n",
       "1597    auto Wells Fargo repossed XXXX late payments y...\n",
       "1634    received letter multiple collection agency cal...\n",
       "1646    wrote ECMC asking legal validation debt 30 day...\n",
       "1782                         Keeps calling even told know\n",
       "2124    paying credit card business although card pers...\n",
       "Name: cleaned_text, dtype: object"
      ]
     },
     "execution_count": 11,
     "metadata": {},
     "output_type": "execute_result"
    }
   ],
   "source": [
    "# Apply the function to 'text' to clean it\n",
    "# Add cleaned data as a separate column to the DataFrame\n",
    "\n",
    "consumer['cleaned_text']=consumer['Consumer complaint narrative'].apply(clean_text)\n",
    "consumer['cleaned_text'].head(10)"
   ]
  },
  {
   "cell_type": "code",
   "execution_count": 12,
   "metadata": {},
   "outputs": [],
   "source": [
    "X = consumer['cleaned_text'].values\n",
    "y = consumer['Product'].values"
   ]
  },
  {
   "cell_type": "code",
   "execution_count": 4,
   "metadata": {},
   "outputs": [],
   "source": [
    "from sklearn.feature_extraction.text import CountVectorizer, TfidfTransformer\n",
    "from sklearn.feature_extraction.text import TfidfVectorizer\n",
    "from sklearn.model_selection import train_test_split\n",
    "from sklearn.naive_bayes import MultinomialNB\n",
    "from sklearn.metrics import confusion_matrix, accuracy_score, f1_score, precision_score, recall_score\n",
    "from sklearn.ensemble import RandomForestClassifier"
   ]
  },
  {
   "cell_type": "code",
   "execution_count": 14,
   "metadata": {},
   "outputs": [
    {
     "name": "stdout",
     "output_type": "stream",
     "text": [
      "Multinomial NB  0.934\n"
     ]
    }
   ],
   "source": [
    "X_train, X_test, y_train, y_test = train_test_split(X,y, random_state=100, test_size=0.3)\n",
    "vectorizer = TfidfVectorizer(max_features=1000)\n",
    "X_train_idf = vectorizer.fit_transform(X_train)\n",
    "X_test_idf = vectorizer.transform(X_test)\n",
    "mnb = MultinomialNB()\n",
    "mnb.fit(X_train_idf, y_train)\n",
    "pred_mnb = mnb.predict(X_test_idf)\n",
    "acc = round(accuracy_score(y_test, pred_mnb),3)\n",
    "print('Multinomial NB ',acc)"
   ]
  },
  {
   "cell_type": "code",
   "execution_count": 15,
   "metadata": {},
   "outputs": [
    {
     "name": "stdout",
     "output_type": "stream",
     "text": [
      "Random Forest  0.937\n"
     ]
    }
   ],
   "source": [
    "RF=RandomForestClassifier(n_estimators=100, random_state=0)\n",
    "RF.fit(X_train_idf, y_train)\n",
    "pred_RF= RF.predict(X_test_idf)\n",
    "acc = round(accuracy_score(y_test, pred_RF),3)\n",
    "print('Random Forest ',acc)"
   ]
  },
  {
   "cell_type": "code",
   "execution_count": null,
   "metadata": {},
   "outputs": [],
   "source": [
    "###Here we can see by comparing two algorithm's Random Forest model and Multinomial Naive Bayes model accuracy doesnot have much differences"
   ]
  },
  {
   "cell_type": "code",
   "execution_count": 16,
   "metadata": {},
   "outputs": [],
   "source": [
    "consumer['Date received']=pd.to_datetime(consumer['Date received'])\n",
    "consumer['Date sent to company']=pd.to_datetime(consumer['Date sent to company'])\n",
    "consumer['Sub-product'].fillna('Not Provided',inplace=True)\n",
    "consumer['Sub-issue'].fillna('Not Provided',inplace=True)\n",
    "consumer['Issue'].fillna('Others',inplace=True)\n",
    "consumer['Sub-issue'].fillna('Not known',inplace=True)\n",
    "consumer['Consumer complaint narrative'].fillna('Not Provided',inplace=True)\n",
    "consumer['Company public response'].fillna('consent not provided',inplace=True)\n",
    "consumer['State'].fillna('Others',inplace=True)\n",
    "consumer['ZIP code'].fillna('Not Provided',inplace=True)\n",
    "consumer['Submitted via'].fillna('Others',inplace=True)\n",
    "consumer['Tags'].fillna('Not known',inplace=True)\n",
    "consumer['Consumer consent provided?'].fillna('consent not provided',inplace=True)\n",
    "consumer['Consumer consent provided?']=consumer['Consumer consent provided?'].apply(lambda x:\n",
    "                                                                                    'Consumer consent provided?' if x=='other' or x=='Consent withdrawn' else x\n",
    "                                                                                    )"
   ]
  },
  {
   "cell_type": "markdown",
   "metadata": {},
   "source": [
    "# Feature Engineering"
   ]
  },
  {
   "cell_type": "code",
   "execution_count": 17,
   "metadata": {},
   "outputs": [
    {
     "data": {
      "text/plain": [
       "109   2015-09-08\n",
       "356   2016-07-07\n",
       "597   2015-10-28\n",
       "851   2015-11-16\n",
       "927   2016-02-03\n",
       "Name: Date sent to company, dtype: datetime64[ns]"
      ]
     },
     "execution_count": 17,
     "metadata": {},
     "output_type": "execute_result"
    }
   ],
   "source": [
    "consumer['Date sent to company'] =pd.to_datetime(consumer['Date sent to company'])\n",
    "consumer['Date sent to company'].head()"
   ]
  },
  {
   "cell_type": "code",
   "execution_count": 18,
   "metadata": {},
   "outputs": [
    {
     "data": {
      "text/plain": [
       "109    37\n",
       "356    27\n",
       "597    44\n",
       "851    47\n",
       "927     5\n",
       "Name: week_year, dtype: int64"
      ]
     },
     "execution_count": 18,
     "metadata": {},
     "output_type": "execute_result"
    }
   ],
   "source": [
    "consumer['week_year']=consumer['Date sent to company'].dt.week\n",
    "consumer['week_year'].head()"
   ]
  },
  {
   "cell_type": "code",
   "execution_count": 19,
   "metadata": {},
   "outputs": [
    {
     "data": {
      "text/plain": [
       "109    2015\n",
       "356    2016\n",
       "597    2015\n",
       "851    2015\n",
       "927    2016\n",
       "Name: year, dtype: int64"
      ]
     },
     "execution_count": 19,
     "metadata": {},
     "output_type": "execute_result"
    }
   ],
   "source": [
    "consumer['year']=consumer['Date sent to company'].dt.year\n",
    "consumer['year'].head()"
   ]
  },
  {
   "cell_type": "code",
   "execution_count": 20,
   "metadata": {},
   "outputs": [
    {
     "data": {
      "text/plain": [
       "109     9\n",
       "356     7\n",
       "597    10\n",
       "851    11\n",
       "927     2\n",
       "Name: month, dtype: int64"
      ]
     },
     "execution_count": 20,
     "metadata": {},
     "output_type": "execute_result"
    }
   ],
   "source": [
    "consumer['month']=consumer['Date sent to company'].dt.month\n",
    "consumer['month'].head()"
   ]
  },
  {
   "cell_type": "code",
   "execution_count": 21,
   "metadata": {},
   "outputs": [
    {
     "data": {
      "text/plain": [
       "array([ 1,  2,  3,  4,  5,  6,  7,  8,  9, 10, 11, 12, 13, 14, 15, 16, 17,\n",
       "       18, 19, 20, 21, 22, 23, 24, 25, 26, 27, 28, 29, 30, 31, 32, 33, 34,\n",
       "       35, 36, 37, 38, 39, 40, 41, 42, 43, 44, 45, 46, 47, 48, 49, 50, 51,\n",
       "       52, 53], dtype=int64)"
      ]
     },
     "execution_count": 21,
     "metadata": {},
     "output_type": "execute_result"
    }
   ],
   "source": [
    "np.sort(consumer['week_year'].unique())"
   ]
  },
  {
   "cell_type": "code",
   "execution_count": 22,
   "metadata": {},
   "outputs": [
    {
     "data": {
      "text/html": [
       "<div>\n",
       "<style scoped>\n",
       "    .dataframe tbody tr th:only-of-type {\n",
       "        vertical-align: middle;\n",
       "    }\n",
       "\n",
       "    .dataframe tbody tr th {\n",
       "        vertical-align: top;\n",
       "    }\n",
       "\n",
       "    .dataframe thead th {\n",
       "        text-align: right;\n",
       "    }\n",
       "</style>\n",
       "<table border=\"1\" class=\"dataframe\">\n",
       "  <thead>\n",
       "    <tr style=\"text-align: right;\">\n",
       "      <th></th>\n",
       "      <th>Date received</th>\n",
       "      <th>Product</th>\n",
       "      <th>Sub-product</th>\n",
       "      <th>Issue</th>\n",
       "      <th>Sub-issue</th>\n",
       "      <th>Consumer complaint narrative</th>\n",
       "      <th>Company public response</th>\n",
       "      <th>Company</th>\n",
       "      <th>State</th>\n",
       "      <th>ZIP code</th>\n",
       "      <th>...</th>\n",
       "      <th>Company response to consumer</th>\n",
       "      <th>Timely response?</th>\n",
       "      <th>Consumer disputed?</th>\n",
       "      <th>Complaint ID</th>\n",
       "      <th>year_month</th>\n",
       "      <th>week_day</th>\n",
       "      <th>cleaned_text</th>\n",
       "      <th>week_year</th>\n",
       "      <th>year</th>\n",
       "      <th>month</th>\n",
       "    </tr>\n",
       "  </thead>\n",
       "  <tbody>\n",
       "    <tr>\n",
       "      <th>109</th>\n",
       "      <td>2015-09-08</td>\n",
       "      <td>Debt collection</td>\n",
       "      <td>Other (i.e. phone, health club, etc.)</td>\n",
       "      <td>False statements or representation</td>\n",
       "      <td>Attempted to collect wrong amount</td>\n",
       "      <td>Amshire Collections is attempting to collect a...</td>\n",
       "      <td>Company believes it acted appropriately as aut...</td>\n",
       "      <td>Amsher Collection Services, Inc.</td>\n",
       "      <td>IN</td>\n",
       "      <td>479XX</td>\n",
       "      <td>...</td>\n",
       "      <td>Closed with explanation</td>\n",
       "      <td>Yes</td>\n",
       "      <td>No</td>\n",
       "      <td>1554834</td>\n",
       "      <td>2015-9</td>\n",
       "      <td>37-8</td>\n",
       "      <td>Amshire Collections attempting collect fabrica...</td>\n",
       "      <td>37</td>\n",
       "      <td>2015</td>\n",
       "      <td>9</td>\n",
       "    </tr>\n",
       "    <tr>\n",
       "      <th>597</th>\n",
       "      <td>2015-10-24</td>\n",
       "      <td>Debt collection</td>\n",
       "      <td>Other (i.e. phone, health club, etc.)</td>\n",
       "      <td>False statements or representation</td>\n",
       "      <td>Attempted to collect wrong amount</td>\n",
       "      <td>I owe a bill XXXX from early cancellation of c...</td>\n",
       "      <td>Company believes it acted appropriately as aut...</td>\n",
       "      <td>Valentine and Kebartas, Inc.</td>\n",
       "      <td>OH</td>\n",
       "      <td>446XX</td>\n",
       "      <td>...</td>\n",
       "      <td>Closed with explanation</td>\n",
       "      <td>Yes</td>\n",
       "      <td>Yes</td>\n",
       "      <td>1623434</td>\n",
       "      <td>2015-10</td>\n",
       "      <td>43-24</td>\n",
       "      <td>owe bill early cancellation contract 100000 de...</td>\n",
       "      <td>44</td>\n",
       "      <td>2015</td>\n",
       "      <td>10</td>\n",
       "    </tr>\n",
       "  </tbody>\n",
       "</table>\n",
       "<p>2 rows × 24 columns</p>\n",
       "</div>"
      ],
      "text/plain": [
       "    Date received          Product                            Sub-product  \\\n",
       "109    2015-09-08  Debt collection  Other (i.e. phone, health club, etc.)   \n",
       "597    2015-10-24  Debt collection  Other (i.e. phone, health club, etc.)   \n",
       "\n",
       "                                  Issue                          Sub-issue  \\\n",
       "109  False statements or representation  Attempted to collect wrong amount   \n",
       "597  False statements or representation  Attempted to collect wrong amount   \n",
       "\n",
       "                          Consumer complaint narrative  \\\n",
       "109  Amshire Collections is attempting to collect a...   \n",
       "597  I owe a bill XXXX from early cancellation of c...   \n",
       "\n",
       "                               Company public response  \\\n",
       "109  Company believes it acted appropriately as aut...   \n",
       "597  Company believes it acted appropriately as aut...   \n",
       "\n",
       "                              Company State ZIP code  ...  \\\n",
       "109  Amsher Collection Services, Inc.    IN    479XX  ...   \n",
       "597      Valentine and Kebartas, Inc.    OH    446XX  ...   \n",
       "\n",
       "    Company response to consumer Timely response? Consumer disputed?  \\\n",
       "109      Closed with explanation              Yes                 No   \n",
       "597      Closed with explanation              Yes                Yes   \n",
       "\n",
       "    Complaint ID year_month week_day  \\\n",
       "109      1554834     2015-9     37-8   \n",
       "597      1623434    2015-10    43-24   \n",
       "\n",
       "                                          cleaned_text  week_year  year month  \n",
       "109  Amshire Collections attempting collect fabrica...         37  2015     9  \n",
       "597  owe bill early cancellation contract 100000 de...         44  2015    10  \n",
       "\n",
       "[2 rows x 24 columns]"
      ]
     },
     "execution_count": 22,
     "metadata": {},
     "output_type": "execute_result"
    }
   ],
   "source": [
    "consumer_trend= consumer[((consumer.year ==2016) & (consumer.week_year <=26)) | ((consumer.year ==2015) & (consumer.week_year >=28))]\n",
    "consumer_trend.head(2)"
   ]
  },
  {
   "cell_type": "code",
   "execution_count": 23,
   "metadata": {},
   "outputs": [
    {
     "data": {
      "text/plain": [
       "month\n",
       "4    147\n",
       "6    137\n",
       "3    137\n",
       "5    133\n",
       "7    123\n",
       "Name: Consumer complaint narrative, dtype: int64"
      ]
     },
     "execution_count": 23,
     "metadata": {},
     "output_type": "execute_result"
    }
   ],
   "source": [
    "consumer.groupby(['month'])['Consumer complaint narrative'].count().sort_values(ascending=False).head()"
   ]
  },
  {
   "cell_type": "code",
   "execution_count": 24,
   "metadata": {},
   "outputs": [
    {
     "data": {
      "text/plain": [
       "week_year\n",
       "13    47\n",
       "21    41\n",
       "16    39\n",
       "17    36\n",
       "15    35\n",
       "Name: Consumer complaint narrative, dtype: int64"
      ]
     },
     "execution_count": 24,
     "metadata": {},
     "output_type": "execute_result"
    }
   ],
   "source": [
    "consumer.groupby(['week_year'])['Consumer complaint narrative'].count().sort_values(ascending=False).head()"
   ]
  },
  {
   "cell_type": "code",
   "execution_count": 25,
   "metadata": {},
   "outputs": [
    {
     "data": {
      "image/png": "[encoded data removed]",
      "text/plain": [
       "<Figure size 432x288 with 1 Axes>"
      ]
     },
     "metadata": {
      "needs_background": "light"
     },
     "output_type": "display_data"
    }
   ],
   "source": [
    "plt.scatter(consumer['week_year'].value_counts().keys(),consumer['week_year'].value_counts(), c='r', s=100, alpha=0.7)\n",
    "plt.xlabel('Distribution of weeks in a year')\n",
    "plt.ylabel('Number of complaints')\n",
    "plt.title('Time Series analysis')\n",
    "plt.show()"
   ]
  },
  {
   "cell_type": "code",
   "execution_count": 26,
   "metadata": {},
   "outputs": [
    {
     "data": {
      "image/png": "[encoded data removed]",
      "text/plain": [
       "<Figure size 432x288 with 1 Axes>"
      ]
     },
     "metadata": {
      "needs_background": "light"
     },
     "output_type": "display_data"
    }
   ],
   "source": [
    "plt.scatter(consumer.month.value_counts().keys(),consumer.month.value_counts(), c='r', s=100, alpha=0.7)\n",
    "plt.xlabel('Months 1-Jan, 2-Feb.....12-Dec')\n",
    "plt.ylabel('Number of complaints')\n",
    "plt.title('Time Series analysis by Month Jan-Dec')\n",
    "plt.show()"
   ]
  },
  {
   "cell_type": "raw",
   "metadata": {},
   "source": [
    "### we can see the trend of complaints with the month and weeks as per graph we can say that on the mid month or on the month of 'march' the number of complaints are more then other months and weekly distribution is more or less with the complaints."
   ]
  },
  {
   "cell_type": "code",
   "execution_count": 27,
   "metadata": {},
   "outputs": [
    {
     "data": {
      "text/plain": [
       "<matplotlib.axes._subplots.AxesSubplot at 0x1c630f47310>"
      ]
     },
     "execution_count": 27,
     "metadata": {},
     "output_type": "execute_result"
    },
    {
     "data": {
      "image/png": "[encoded data removed]",
      "text/plain": [
       "<Figure size 432x288 with 1 Axes>"
      ]
     },
     "metadata": {
      "needs_background": "light"
     },
     "output_type": "display_data"
    }
   ],
   "source": [
    "sns.countplot(x='Consumer disputed?',data=consumer,hue='Consumer consent provided?')"
   ]
  },
  {
   "cell_type": "raw",
   "metadata": {},
   "source": [
    "####It depends on the user to user to drop or use the null values as the percentage are quite high so droping it might result it in over fitting so replacing NAN with new variable would be more vulnerable and thus we dnt tend to lose the data too..."
   ]
  },
  {
   "cell_type": "code",
   "execution_count": 5,
   "metadata": {},
   "outputs": [],
   "source": [
    "##now we will make our prediction model\n",
    "train=pd.read_csv('Edureka_Consumer_Complaints_train.csv')\n",
    "test=pd.read_csv('Edureka_Consumer_Complaints_test.csv')"
   ]
  },
  {
   "cell_type": "code",
   "execution_count": 6,
   "metadata": {},
   "outputs": [],
   "source": [
    "train['Date received']=pd.to_datetime(train['Date received'])\n",
    "train['Date sent to company']=pd.to_datetime(train['Date sent to company'])\n",
    "train['Sub-product'].fillna('Not Provided',inplace=True)\n",
    "train['Sub-issue'].fillna('Not Provided',inplace=True)\n",
    "train['Issue'].fillna('Others',inplace=True)\n",
    "train['Sub-issue'].fillna('Not known',inplace=True)\n",
    "train['Consumer complaint narrative'].fillna('Not Provided',inplace=True)\n",
    "train['Company public response'].fillna('consent not provided',inplace=True)\n",
    "train['State'].fillna('Others',inplace=True)\n",
    "train['ZIP code'].fillna('Not Provided',inplace=True)\n",
    "train['Submitted via'].fillna('Others',inplace=True)\n",
    "train['Tags'].fillna('Not known',inplace=True)\n",
    "train['Consumer consent provided?'].fillna('consent not provided',inplace=True)\n",
    "train['Consumer consent provided?']=train['Consumer consent provided?'].apply(lambda x:\n",
    "                                                                                    'Consumer consent provided?' if x=='other' or x=='Consent withdrawn' else x\n",
    "                                                                                    )"
   ]
  },
  {
   "cell_type": "code",
   "execution_count": 7,
   "metadata": {},
   "outputs": [],
   "source": [
    "test['Date received']=pd.to_datetime(test['Date received'])\n",
    "test['Date sent to company']=pd.to_datetime(test['Date sent to company'])\n",
    "test['Sub-product'].fillna('Not Provided',inplace=True)\n",
    "test['Sub-issue'].fillna('Not Provided',inplace=True)\n",
    "test['Issue'].fillna('Others',inplace=True)\n",
    "test['Sub-issue'].fillna('Not known',inplace=True)\n",
    "test['Consumer complaint narrative'].fillna('Not Provided',inplace=True)\n",
    "test['Company public response'].fillna('consent not provided',inplace=True)\n",
    "test['State'].fillna('Others',inplace=True)\n",
    "test['ZIP code'].fillna('Not Provided',inplace=True)\n",
    "test['Submitted via'].fillna('Others',inplace=True)\n",
    "test['Tags'].fillna('Not known',inplace=True)\n",
    "test['Consumer consent provided?'].fillna('consent not provided',inplace=True)\n",
    "test['Consumer consent provided?']=test['Consumer consent provided?'].apply(lambda x:\n",
    "                                                                                    'Consumer consent provided?' if x=='other' or x=='Consent withdrawn' else x\n",
    "                                                                                    )"
   ]
  },
  {
   "cell_type": "code",
   "execution_count": 8,
   "metadata": {},
   "outputs": [],
   "source": [
    "train['Date sent to company'] =pd.to_datetime(train['Date sent to company'])\n",
    "train['week_year']=train['Date sent to company'].dt.week\n",
    "train['year']=train['Date sent to company'].dt.year\n",
    "train['month']=train['Date sent to company'].dt.month"
   ]
  },
  {
   "cell_type": "code",
   "execution_count": 9,
   "metadata": {},
   "outputs": [],
   "source": [
    "test['Date sent to company'] =pd.to_datetime(test['Date sent to company'])\n",
    "test['week_year']=test['Date sent to company'].dt.week\n",
    "test['year']=test['Date sent to company'].dt.year\n",
    "test['month']=test['Date sent to company'].dt.month"
   ]
  },
  {
   "cell_type": "code",
   "execution_count": 10,
   "metadata": {},
   "outputs": [
    {
     "data": {
      "text/html": [
       "<div>\n",
       "<style scoped>\n",
       "    .dataframe tbody tr th:only-of-type {\n",
       "        vertical-align: middle;\n",
       "    }\n",
       "\n",
       "    .dataframe tbody tr th {\n",
       "        vertical-align: top;\n",
       "    }\n",
       "\n",
       "    .dataframe thead th {\n",
       "        text-align: right;\n",
       "    }\n",
       "</style>\n",
       "<table border=\"1\" class=\"dataframe\">\n",
       "  <thead>\n",
       "    <tr style=\"text-align: right;\">\n",
       "      <th></th>\n",
       "      <th>Product</th>\n",
       "      <th>Sub-product</th>\n",
       "      <th>Issue</th>\n",
       "      <th>Sub-issue</th>\n",
       "      <th>Company public response</th>\n",
       "      <th>Company</th>\n",
       "      <th>State</th>\n",
       "      <th>Tags</th>\n",
       "      <th>Consumer consent provided?</th>\n",
       "      <th>Submitted via</th>\n",
       "      <th>Company response to consumer</th>\n",
       "      <th>Timely response?</th>\n",
       "      <th>Consumer disputed?</th>\n",
       "      <th>week_year</th>\n",
       "      <th>year</th>\n",
       "      <th>month</th>\n",
       "    </tr>\n",
       "  </thead>\n",
       "  <tbody>\n",
       "    <tr>\n",
       "      <th>0</th>\n",
       "      <td>Credit reporting</td>\n",
       "      <td>Not Provided</td>\n",
       "      <td>Incorrect information on credit report</td>\n",
       "      <td>Information is not mine</td>\n",
       "      <td>consent not provided</td>\n",
       "      <td>Equifax</td>\n",
       "      <td>GA</td>\n",
       "      <td>Not known</td>\n",
       "      <td>Consent not provided</td>\n",
       "      <td>Web</td>\n",
       "      <td>Closed with explanation</td>\n",
       "      <td>Yes</td>\n",
       "      <td>No</td>\n",
       "      <td>42</td>\n",
       "      <td>2015</td>\n",
       "      <td>10</td>\n",
       "    </tr>\n",
       "    <tr>\n",
       "      <th>1</th>\n",
       "      <td>Bank account or service</td>\n",
       "      <td>Other bank product/service</td>\n",
       "      <td>Deposits and withdrawals</td>\n",
       "      <td>Not Provided</td>\n",
       "      <td>consent not provided</td>\n",
       "      <td>Wells Fargo &amp; Company</td>\n",
       "      <td>GA</td>\n",
       "      <td>Not known</td>\n",
       "      <td>Consent provided</td>\n",
       "      <td>Web</td>\n",
       "      <td>Closed with explanation</td>\n",
       "      <td>Yes</td>\n",
       "      <td>Yes</td>\n",
       "      <td>17</td>\n",
       "      <td>2015</td>\n",
       "      <td>4</td>\n",
       "    </tr>\n",
       "  </tbody>\n",
       "</table>\n",
       "</div>"
      ],
      "text/plain": [
       "                   Product                 Sub-product  \\\n",
       "0         Credit reporting                Not Provided   \n",
       "1  Bank account or service  Other bank product/service   \n",
       "\n",
       "                                    Issue                Sub-issue  \\\n",
       "0  Incorrect information on credit report  Information is not mine   \n",
       "1                Deposits and withdrawals             Not Provided   \n",
       "\n",
       "  Company public response                Company State       Tags  \\\n",
       "0    consent not provided                Equifax    GA  Not known   \n",
       "1    consent not provided  Wells Fargo & Company    GA  Not known   \n",
       "\n",
       "  Consumer consent provided? Submitted via Company response to consumer  \\\n",
       "0       Consent not provided           Web      Closed with explanation   \n",
       "1           Consent provided           Web      Closed with explanation   \n",
       "\n",
       "  Timely response? Consumer disputed?  week_year  year  month  \n",
       "0              Yes                 No         42  2015     10  \n",
       "1              Yes                Yes         17  2015      4  "
      ]
     },
     "execution_count": 10,
     "metadata": {},
     "output_type": "execute_result"
    }
   ],
   "source": [
    "train.drop(['Date received','Consumer complaint narrative','ZIP code','Date sent to company','Complaint ID'],axis=1,inplace=True)\n",
    "train.head(2)"
   ]
  },
  {
   "cell_type": "code",
   "execution_count": 11,
   "metadata": {},
   "outputs": [
    {
     "data": {
      "text/html": [
       "<div>\n",
       "<style scoped>\n",
       "    .dataframe tbody tr th:only-of-type {\n",
       "        vertical-align: middle;\n",
       "    }\n",
       "\n",
       "    .dataframe tbody tr th {\n",
       "        vertical-align: top;\n",
       "    }\n",
       "\n",
       "    .dataframe thead th {\n",
       "        text-align: right;\n",
       "    }\n",
       "</style>\n",
       "<table border=\"1\" class=\"dataframe\">\n",
       "  <thead>\n",
       "    <tr style=\"text-align: right;\">\n",
       "      <th></th>\n",
       "      <th>Product</th>\n",
       "      <th>Sub-product</th>\n",
       "      <th>Issue</th>\n",
       "      <th>Sub-issue</th>\n",
       "      <th>Company public response</th>\n",
       "      <th>Company</th>\n",
       "      <th>State</th>\n",
       "      <th>Tags</th>\n",
       "      <th>Consumer consent provided?</th>\n",
       "      <th>Submitted via</th>\n",
       "      <th>Company response to consumer</th>\n",
       "      <th>Timely response?</th>\n",
       "      <th>week_year</th>\n",
       "      <th>year</th>\n",
       "      <th>month</th>\n",
       "    </tr>\n",
       "  </thead>\n",
       "  <tbody>\n",
       "    <tr>\n",
       "      <th>0</th>\n",
       "      <td>Credit card</td>\n",
       "      <td>Not Provided</td>\n",
       "      <td>Customer service / Customer relations</td>\n",
       "      <td>Not Provided</td>\n",
       "      <td>consent not provided</td>\n",
       "      <td>Citibank</td>\n",
       "      <td>TX</td>\n",
       "      <td>Not known</td>\n",
       "      <td>consent not provided</td>\n",
       "      <td>Web</td>\n",
       "      <td>Closed with monetary relief</td>\n",
       "      <td>Yes</td>\n",
       "      <td>3</td>\n",
       "      <td>2015</td>\n",
       "      <td>1</td>\n",
       "    </tr>\n",
       "    <tr>\n",
       "      <th>1</th>\n",
       "      <td>Consumer Loan</td>\n",
       "      <td>Title loan</td>\n",
       "      <td>Payment to acct not credited</td>\n",
       "      <td>Not Provided</td>\n",
       "      <td>Company believes it acted appropriately as aut...</td>\n",
       "      <td>Larsen MacColl Partners II, L.P.</td>\n",
       "      <td>TX</td>\n",
       "      <td>Servicemember</td>\n",
       "      <td>consent not provided</td>\n",
       "      <td>Phone</td>\n",
       "      <td>Closed with explanation</td>\n",
       "      <td>Yes</td>\n",
       "      <td>25</td>\n",
       "      <td>2016</td>\n",
       "      <td>6</td>\n",
       "    </tr>\n",
       "  </tbody>\n",
       "</table>\n",
       "</div>"
      ],
      "text/plain": [
       "         Product   Sub-product                                  Issue  \\\n",
       "0    Credit card  Not Provided  Customer service / Customer relations   \n",
       "1  Consumer Loan    Title loan           Payment to acct not credited   \n",
       "\n",
       "      Sub-issue                            Company public response  \\\n",
       "0  Not Provided                               consent not provided   \n",
       "1  Not Provided  Company believes it acted appropriately as aut...   \n",
       "\n",
       "                            Company State           Tags  \\\n",
       "0                          Citibank    TX      Not known   \n",
       "1  Larsen MacColl Partners II, L.P.    TX  Servicemember   \n",
       "\n",
       "  Consumer consent provided? Submitted via Company response to consumer  \\\n",
       "0       consent not provided           Web  Closed with monetary relief   \n",
       "1       consent not provided         Phone      Closed with explanation   \n",
       "\n",
       "  Timely response?  week_year  year  month  \n",
       "0              Yes          3  2015      1  \n",
       "1              Yes         25  2016      6  "
      ]
     },
     "execution_count": 11,
     "metadata": {},
     "output_type": "execute_result"
    }
   ],
   "source": [
    "test.drop(['Date received','Consumer complaint narrative','ZIP code','Date sent to company','Complaint ID'],axis=1,inplace=True)\n",
    "test.head(2)"
   ]
  },
  {
   "cell_type": "code",
   "execution_count": 12,
   "metadata": {},
   "outputs": [
    {
     "data": {
      "text/html": [
       "<div>\n",
       "<style scoped>\n",
       "    .dataframe tbody tr th:only-of-type {\n",
       "        vertical-align: middle;\n",
       "    }\n",
       "\n",
       "    .dataframe tbody tr th {\n",
       "        vertical-align: top;\n",
       "    }\n",
       "\n",
       "    .dataframe thead th {\n",
       "        text-align: right;\n",
       "    }\n",
       "</style>\n",
       "<table border=\"1\" class=\"dataframe\">\n",
       "  <thead>\n",
       "    <tr style=\"text-align: right;\">\n",
       "      <th></th>\n",
       "      <th>Product</th>\n",
       "      <th>Sub-product</th>\n",
       "      <th>Issue</th>\n",
       "      <th>Sub-issue</th>\n",
       "      <th>Company public response</th>\n",
       "      <th>Company</th>\n",
       "      <th>State</th>\n",
       "      <th>Tags</th>\n",
       "      <th>Consumer consent provided?</th>\n",
       "      <th>Submitted via</th>\n",
       "      <th>Company response to consumer</th>\n",
       "      <th>Timely response?</th>\n",
       "      <th>Consumer disputed?</th>\n",
       "      <th>week_year</th>\n",
       "      <th>year</th>\n",
       "      <th>month</th>\n",
       "    </tr>\n",
       "  </thead>\n",
       "  <tbody>\n",
       "    <tr>\n",
       "      <th>0</th>\n",
       "      <td>3</td>\n",
       "      <td>29</td>\n",
       "      <td>52</td>\n",
       "      <td>32</td>\n",
       "      <td>10</td>\n",
       "      <td>998</td>\n",
       "      <td>15</td>\n",
       "      <td>0</td>\n",
       "      <td>0</td>\n",
       "      <td>5</td>\n",
       "      <td>1</td>\n",
       "      <td>1</td>\n",
       "      <td>0</td>\n",
       "      <td>41</td>\n",
       "      <td>4</td>\n",
       "      <td>9</td>\n",
       "    </tr>\n",
       "    <tr>\n",
       "      <th>1</th>\n",
       "      <td>0</td>\n",
       "      <td>31</td>\n",
       "      <td>39</td>\n",
       "      <td>37</td>\n",
       "      <td>10</td>\n",
       "      <td>2986</td>\n",
       "      <td>15</td>\n",
       "      <td>0</td>\n",
       "      <td>1</td>\n",
       "      <td>5</td>\n",
       "      <td>1</td>\n",
       "      <td>1</td>\n",
       "      <td>1</td>\n",
       "      <td>16</td>\n",
       "      <td>4</td>\n",
       "      <td>3</td>\n",
       "    </tr>\n",
       "    <tr>\n",
       "      <th>2</th>\n",
       "      <td>2</td>\n",
       "      <td>29</td>\n",
       "      <td>68</td>\n",
       "      <td>37</td>\n",
       "      <td>10</td>\n",
       "      <td>623</td>\n",
       "      <td>51</td>\n",
       "      <td>0</td>\n",
       "      <td>4</td>\n",
       "      <td>2</td>\n",
       "      <td>3</td>\n",
       "      <td>1</td>\n",
       "      <td>0</td>\n",
       "      <td>0</td>\n",
       "      <td>3</td>\n",
       "      <td>0</td>\n",
       "    </tr>\n",
       "    <tr>\n",
       "      <th>3</th>\n",
       "      <td>4</td>\n",
       "      <td>30</td>\n",
       "      <td>40</td>\n",
       "      <td>39</td>\n",
       "      <td>9</td>\n",
       "      <td>1031</td>\n",
       "      <td>43</td>\n",
       "      <td>0</td>\n",
       "      <td>4</td>\n",
       "      <td>4</td>\n",
       "      <td>1</td>\n",
       "      <td>1</td>\n",
       "      <td>0</td>\n",
       "      <td>8</td>\n",
       "      <td>5</td>\n",
       "      <td>2</td>\n",
       "    </tr>\n",
       "    <tr>\n",
       "      <th>4</th>\n",
       "      <td>4</td>\n",
       "      <td>24</td>\n",
       "      <td>40</td>\n",
       "      <td>39</td>\n",
       "      <td>10</td>\n",
       "      <td>1320</td>\n",
       "      <td>8</td>\n",
       "      <td>0</td>\n",
       "      <td>4</td>\n",
       "      <td>5</td>\n",
       "      <td>1</td>\n",
       "      <td>1</td>\n",
       "      <td>1</td>\n",
       "      <td>4</td>\n",
       "      <td>4</td>\n",
       "      <td>0</td>\n",
       "    </tr>\n",
       "  </tbody>\n",
       "</table>\n",
       "</div>"
      ],
      "text/plain": [
       "   Product  Sub-product  Issue  Sub-issue  Company public response  Company  \\\n",
       "0        3           29     52         32                       10      998   \n",
       "1        0           31     39         37                       10     2986   \n",
       "2        2           29     68         37                       10      623   \n",
       "3        4           30     40         39                        9     1031   \n",
       "4        4           24     40         39                       10     1320   \n",
       "\n",
       "   State  Tags  Consumer consent provided?  Submitted via  \\\n",
       "0     15     0                           0              5   \n",
       "1     15     0                           1              5   \n",
       "2     51     0                           4              2   \n",
       "3     43     0                           4              4   \n",
       "4      8     0                           4              5   \n",
       "\n",
       "   Company response to consumer  Timely response?  Consumer disputed?  \\\n",
       "0                             1                 1                   0   \n",
       "1                             1                 1                   1   \n",
       "2                             3                 1                   0   \n",
       "3                             1                 1                   0   \n",
       "4                             1                 1                   1   \n",
       "\n",
       "   week_year  year  month  \n",
       "0         41     4      9  \n",
       "1         16     4      3  \n",
       "2          0     3      0  \n",
       "3          8     5      2  \n",
       "4          4     4      0  "
      ]
     },
     "execution_count": 12,
     "metadata": {},
     "output_type": "execute_result"
    }
   ],
   "source": [
    "lb=LabelEncoder()\n",
    "label_df=train.apply(lb.fit_transform)\n",
    "label_df.head()"
   ]
  },
  {
   "cell_type": "code",
   "execution_count": 13,
   "metadata": {},
   "outputs": [],
   "source": [
    "x=label_df[['Product', 'Sub-product', 'Issue', 'Sub-issue',\n",
    "       'Company public response', 'Company', 'State', 'Tags',\n",
    "       'Consumer consent provided?', 'Submitted via',\n",
    "       'Company response to consumer', 'Timely response?']]\n",
    "y=label_df['Consumer disputed?']"
   ]
  },
  {
   "cell_type": "code",
   "execution_count": 14,
   "metadata": {},
   "outputs": [],
   "source": [
    "x_train,x_test,y_train,y_test=train_test_split(x,y,test_size=0.2,random_state=5)"
   ]
  },
  {
   "cell_type": "code",
   "execution_count": 15,
   "metadata": {},
   "outputs": [],
   "source": [
    "from sklearn.ensemble import RandomForestClassifier,AdaBoostClassifier\n",
    "from sklearn.tree import DecisionTreeClassifier"
   ]
  },
  {
   "cell_type": "code",
   "execution_count": 16,
   "metadata": {},
   "outputs": [],
   "source": [
    "dtc = DecisionTreeClassifier(criterion='entropy', splitter='best')"
   ]
  },
  {
   "cell_type": "code",
   "execution_count": 17,
   "metadata": {},
   "outputs": [],
   "source": [
    "model0=dtc.fit(x_train,y_train)"
   ]
  },
  {
   "cell_type": "code",
   "execution_count": 19,
   "metadata": {},
   "outputs": [
    {
     "name": "stdout",
     "output_type": "stream",
     "text": [
      "0.717\n"
     ]
    }
   ],
   "source": [
    "y_pred0=model0.predict(x_test)\n",
    "acc_score0=round(accuracy_score(y_pred0,y_test),3)\n",
    "print(acc_score0)"
   ]
  },
  {
   "cell_type": "code",
   "execution_count": 20,
   "metadata": {},
   "outputs": [],
   "source": [
    "clf= RandomForestClassifier(random_state=0,n_estimators=100)"
   ]
  },
  {
   "cell_type": "code",
   "execution_count": 21,
   "metadata": {},
   "outputs": [],
   "source": [
    "model=clf.fit(x_train,y_train)"
   ]
  },
  {
   "cell_type": "code",
   "execution_count": 22,
   "metadata": {},
   "outputs": [
    {
     "name": "stdout",
     "output_type": "stream",
     "text": [
      "0.752\n"
     ]
    }
   ],
   "source": [
    "y_pred=model.predict(x_test)\n",
    "acc_score=round(accuracy_score(y_pred,y_test),3)\n",
    "print(acc_score)"
   ]
  },
  {
   "cell_type": "code",
   "execution_count": 23,
   "metadata": {},
   "outputs": [],
   "source": [
    "abc=AdaBoostClassifier(n_estimators=100,learning_rate=1,random_state=0) ## n_estimators is the no. od models to iteratively train"
   ]
  },
  {
   "cell_type": "code",
   "execution_count": 24,
   "metadata": {},
   "outputs": [],
   "source": [
    "model1=abc.fit(x_train,y_train)"
   ]
  },
  {
   "cell_type": "code",
   "execution_count": 25,
   "metadata": {},
   "outputs": [
    {
     "name": "stdout",
     "output_type": "stream",
     "text": [
      "0.752\n"
     ]
    }
   ],
   "source": [
    "y_pred1=model1.predict(x_test)\n",
    "acc_score1=round(accuracy_score(y_pred1,y_test),3)\n",
    "print(acc_score)"
   ]
  },
  {
   "cell_type": "code",
   "execution_count": 27,
   "metadata": {},
   "outputs": [
    {
     "data": {
      "text/html": [
       "<div>\n",
       "<style scoped>\n",
       "    .dataframe tbody tr th:only-of-type {\n",
       "        vertical-align: middle;\n",
       "    }\n",
       "\n",
       "    .dataframe tbody tr th {\n",
       "        vertical-align: top;\n",
       "    }\n",
       "\n",
       "    .dataframe thead th {\n",
       "        text-align: right;\n",
       "    }\n",
       "</style>\n",
       "<table border=\"1\" class=\"dataframe\">\n",
       "  <thead>\n",
       "    <tr style=\"text-align: right;\">\n",
       "      <th></th>\n",
       "      <th>Product</th>\n",
       "      <th>Sub-product</th>\n",
       "      <th>Issue</th>\n",
       "      <th>Sub-issue</th>\n",
       "      <th>Company public response</th>\n",
       "      <th>Company</th>\n",
       "      <th>State</th>\n",
       "      <th>Tags</th>\n",
       "      <th>Consumer consent provided?</th>\n",
       "      <th>Submitted via</th>\n",
       "      <th>Company response to consumer</th>\n",
       "      <th>Timely response?</th>\n",
       "      <th>week_year</th>\n",
       "      <th>year</th>\n",
       "      <th>month</th>\n",
       "    </tr>\n",
       "  </thead>\n",
       "  <tbody>\n",
       "    <tr>\n",
       "      <th>0</th>\n",
       "      <td>2</td>\n",
       "      <td>29</td>\n",
       "      <td>35</td>\n",
       "      <td>37</td>\n",
       "      <td>10</td>\n",
       "      <td>457</td>\n",
       "      <td>54</td>\n",
       "      <td>0</td>\n",
       "      <td>4</td>\n",
       "      <td>5</td>\n",
       "      <td>2</td>\n",
       "      <td>1</td>\n",
       "      <td>2</td>\n",
       "      <td>4</td>\n",
       "      <td>0</td>\n",
       "    </tr>\n",
       "    <tr>\n",
       "      <th>1</th>\n",
       "      <td>1</td>\n",
       "      <td>42</td>\n",
       "      <td>72</td>\n",
       "      <td>37</td>\n",
       "      <td>4</td>\n",
       "      <td>1168</td>\n",
       "      <td>54</td>\n",
       "      <td>3</td>\n",
       "      <td>4</td>\n",
       "      <td>2</td>\n",
       "      <td>1</td>\n",
       "      <td>1</td>\n",
       "      <td>24</td>\n",
       "      <td>5</td>\n",
       "      <td>5</td>\n",
       "    </tr>\n",
       "    <tr>\n",
       "      <th>2</th>\n",
       "      <td>2</td>\n",
       "      <td>29</td>\n",
       "      <td>31</td>\n",
       "      <td>37</td>\n",
       "      <td>10</td>\n",
       "      <td>399</td>\n",
       "      <td>35</td>\n",
       "      <td>0</td>\n",
       "      <td>1</td>\n",
       "      <td>5</td>\n",
       "      <td>1</td>\n",
       "      <td>1</td>\n",
       "      <td>35</td>\n",
       "      <td>4</td>\n",
       "      <td>8</td>\n",
       "    </tr>\n",
       "    <tr>\n",
       "      <th>3</th>\n",
       "      <td>1</td>\n",
       "      <td>22</td>\n",
       "      <td>76</td>\n",
       "      <td>37</td>\n",
       "      <td>10</td>\n",
       "      <td>1533</td>\n",
       "      <td>31</td>\n",
       "      <td>0</td>\n",
       "      <td>1</td>\n",
       "      <td>5</td>\n",
       "      <td>3</td>\n",
       "      <td>1</td>\n",
       "      <td>19</td>\n",
       "      <td>5</td>\n",
       "      <td>4</td>\n",
       "    </tr>\n",
       "    <tr>\n",
       "      <th>4</th>\n",
       "      <td>4</td>\n",
       "      <td>30</td>\n",
       "      <td>49</td>\n",
       "      <td>17</td>\n",
       "      <td>9</td>\n",
       "      <td>910</td>\n",
       "      <td>51</td>\n",
       "      <td>0</td>\n",
       "      <td>1</td>\n",
       "      <td>5</td>\n",
       "      <td>1</td>\n",
       "      <td>1</td>\n",
       "      <td>26</td>\n",
       "      <td>5</td>\n",
       "      <td>6</td>\n",
       "    </tr>\n",
       "  </tbody>\n",
       "</table>\n",
       "</div>"
      ],
      "text/plain": [
       "   Product  Sub-product  Issue  Sub-issue  Company public response  Company  \\\n",
       "0        2           29     35         37                       10      457   \n",
       "1        1           42     72         37                        4     1168   \n",
       "2        2           29     31         37                       10      399   \n",
       "3        1           22     76         37                       10     1533   \n",
       "4        4           30     49         17                        9      910   \n",
       "\n",
       "   State  Tags  Consumer consent provided?  Submitted via  \\\n",
       "0     54     0                           4              5   \n",
       "1     54     3                           4              2   \n",
       "2     35     0                           1              5   \n",
       "3     31     0                           1              5   \n",
       "4     51     0                           1              5   \n",
       "\n",
       "   Company response to consumer  Timely response?  week_year  year  month  \n",
       "0                             2                 1          2     4      0  \n",
       "1                             1                 1         24     5      5  \n",
       "2                             1                 1         35     4      8  \n",
       "3                             3                 1         19     5      4  \n",
       "4                             1                 1         26     5      6  "
      ]
     },
     "execution_count": 27,
     "metadata": {},
     "output_type": "execute_result"
    }
   ],
   "source": [
    "lb=LabelEncoder()\n",
    "label_test_df=test.apply(lb.fit_transform)\n",
    "label_test_df.head()"
   ]
  },
  {
   "cell_type": "code",
   "execution_count": 28,
   "metadata": {},
   "outputs": [
    {
     "data": {
      "text/plain": [
       "Index(['Product', 'Sub-product', 'Issue', 'Sub-issue',\n",
       "       'Company public response', 'Company', 'State', 'Tags',\n",
       "       'Consumer consent provided?', 'Submitted via',\n",
       "       'Company response to consumer', 'Timely response?', 'week_year', 'year',\n",
       "       'month'],\n",
       "      dtype='object')"
      ]
     },
     "execution_count": 28,
     "metadata": {},
     "output_type": "execute_result"
    }
   ],
   "source": [
    "label_test_df.columns"
   ]
  },
  {
   "cell_type": "code",
   "execution_count": 30,
   "metadata": {},
   "outputs": [],
   "source": [
    "x_test=label_test_df[['Product', 'Sub-product', 'Issue', 'Sub-issue',\n",
    "       'Company public response', 'Company', 'State', 'Tags',\n",
    "       'Consumer consent provided?', 'Submitted via',\n",
    "       'Company response to consumer', 'Timely response?']]"
   ]
  },
  {
   "cell_type": "code",
   "execution_count": 29,
   "metadata": {},
   "outputs": [],
   "source": [
    "rfc1 = RandomForestClassifier(n_estimators=100)\n",
    "rfc1.fit(x,y)\n",
    "y1_pred = rfc1.predict(x_test)"
   ]
  },
  {
   "cell_type": "code",
   "execution_count": 35,
   "metadata": {},
   "outputs": [
    {
     "name": "stdout",
     "output_type": "stream",
     "text": [
      "        0\n",
      "0      No\n",
      "1      No\n",
      "2      No\n",
      "3      No\n",
      "4      No\n",
      "...    ..\n",
      "71757  No\n",
      "71758  No\n",
      "71759  No\n",
      "71760  No\n",
      "71761  No\n",
      "\n",
      "[71762 rows x 1 columns]\n"
     ]
    }
   ],
   "source": [
    "submission = pd.DataFrame(data=y1_pred, index=None)\n",
    "submission.replace(to_replace=0, value='No', inplace=True)\n",
    "submission.replace(to_replace=1, value='Yes', inplace=True)\n",
    "#Print the output DataFrame\n",
    "print(submission)\n",
    "submission.to_csv(f\"submission_merged.csv\",index=False)"
   ]
  },
  {
   "cell_type": "code",
   "execution_count": null,
   "metadata": {},
   "outputs": [],
   "source": []
  }
 ],
 "metadata": {
  "kernelspec": {
   "display_name": "Python 3",
   "language": "python",
   "name": "python3"
  },
  "language_info": {
   "codemirror_mode": {
    "name": "ipython",
    "version": 3
   },
   "file_extension": ".py",
   "mimetype": "text/x-python",
   "name": "python",
   "nbconvert_exporter": "python",
   "pygments_lexer": "ipython3",
   "version": "3.8.2"
  }
 },
 "nbformat": 4,
 "nbformat_minor": 4
}
